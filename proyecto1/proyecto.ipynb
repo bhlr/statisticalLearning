{
  "nbformat": 4,
  "nbformat_minor": 0,
  "metadata": {
    "colab": {
      "name": "proyecto.ipynb",
      "provenance": [],
      "collapsed_sections": []
    },
    "kernelspec": {
      "name": "python3",
      "display_name": "Python 3"
    },
    "language_info": {
      "name": "python"
    }
  },
  "cells": [
    {
      "cell_type": "markdown",
      "metadata": {
        "id": "GZvwbDg2V6XP"
      },
      "source": [
        "Proyecto 1\n"
      ]
    },
    {
      "cell_type": "code",
      "metadata": {
        "id": "3iZn3fmRYU08"
      },
      "source": [
        "\n",
        "import numpy as np\n",
        "import tensorflow as tf\n",
        "import matplotlib.pyplot as plt\n",
        "import pandas as pd\n",
        "import datetime, os\n",
        "from scipy.stats import norm\n",
        "from sklearn.preprocessing import OrdinalEncoder\n",
        "from sklearn.model_selection import train_test_split\n",
        "from sklearn.tree import DecisionTreeClassifier\n",
        "from sklearn.svm import SVC\n",
        "from math import sqrt\n",
        "from math import exp\n",
        "from math import pi\n",
        "import sklearn.metrics as sm\n",
        "import joblib\n",
        "from sklearn.utils import resample\n",
        "\n"
      ],
      "execution_count": 3,
      "outputs": []
    },
    {
      "cell_type": "code",
      "metadata": {
        "colab": {
          "base_uri": "https://localhost:8080/"
        },
        "id": "FwjMhb55V_UA",
        "outputId": "7ef73142-fe4a-4566-990d-a81745d6022e"
      },
      "source": [
        "!pip install PyDrive\n",
        "from pydrive.auth import GoogleAuth\n",
        "from pydrive.drive import GoogleDrive\n",
        "from google.colab import auth\n",
        "from oauth2client.client import GoogleCredentials\n",
        "# 1. Authenticate and create the PyDrive client.\n",
        "auth.authenticate_user()\n",
        "gauth = GoogleAuth()\n",
        "gauth.credentials = GoogleCredentials.get_application_default()\n",
        "drive = GoogleDrive(gauth)\n",
        "#2. Get the file\n",
        "downloaded = drive.CreateFile({'id':\"10dl3yzGKvcFPAdB8pfj3xgZ7XyB6l79_\"})   # replace the id with id of file you want to access\n",
        "downloaded.GetContentFile('data_titanic_proyecto.csv')\n",
        "downloaded"
      ],
      "execution_count": 4,
      "outputs": [
        {
          "output_type": "stream",
          "text": [
            "Requirement already satisfied: PyDrive in /usr/local/lib/python3.7/dist-packages (1.3.1)\n",
            "Requirement already satisfied: PyYAML>=3.0 in /usr/local/lib/python3.7/dist-packages (from PyDrive) (3.13)\n",
            "Requirement already satisfied: google-api-python-client>=1.2 in /usr/local/lib/python3.7/dist-packages (from PyDrive) (1.12.8)\n",
            "Requirement already satisfied: oauth2client>=4.0.0 in /usr/local/lib/python3.7/dist-packages (from PyDrive) (4.1.3)\n",
            "Requirement already satisfied: six<2dev,>=1.13.0 in /usr/local/lib/python3.7/dist-packages (from google-api-python-client>=1.2->PyDrive) (1.15.0)\n",
            "Requirement already satisfied: google-api-core<2dev,>=1.21.0 in /usr/local/lib/python3.7/dist-packages (from google-api-python-client>=1.2->PyDrive) (1.26.3)\n",
            "Requirement already satisfied: uritemplate<4dev,>=3.0.0 in /usr/local/lib/python3.7/dist-packages (from google-api-python-client>=1.2->PyDrive) (3.0.1)\n",
            "Requirement already satisfied: google-auth>=1.16.0 in /usr/local/lib/python3.7/dist-packages (from google-api-python-client>=1.2->PyDrive) (1.31.0)\n",
            "Requirement already satisfied: google-auth-httplib2>=0.0.3 in /usr/local/lib/python3.7/dist-packages (from google-api-python-client>=1.2->PyDrive) (0.0.4)\n",
            "Requirement already satisfied: httplib2<1dev,>=0.15.0 in /usr/local/lib/python3.7/dist-packages (from google-api-python-client>=1.2->PyDrive) (0.17.4)\n",
            "Requirement already satisfied: pyasn1>=0.1.7 in /usr/local/lib/python3.7/dist-packages (from oauth2client>=4.0.0->PyDrive) (0.4.8)\n",
            "Requirement already satisfied: pyasn1-modules>=0.0.5 in /usr/local/lib/python3.7/dist-packages (from oauth2client>=4.0.0->PyDrive) (0.2.8)\n",
            "Requirement already satisfied: rsa>=3.1.4 in /usr/local/lib/python3.7/dist-packages (from oauth2client>=4.0.0->PyDrive) (4.7.2)\n",
            "Requirement already satisfied: packaging>=14.3 in /usr/local/lib/python3.7/dist-packages (from google-api-core<2dev,>=1.21.0->google-api-python-client>=1.2->PyDrive) (20.9)\n",
            "Requirement already satisfied: pytz in /usr/local/lib/python3.7/dist-packages (from google-api-core<2dev,>=1.21.0->google-api-python-client>=1.2->PyDrive) (2018.9)\n",
            "Requirement already satisfied: protobuf>=3.12.0 in /usr/local/lib/python3.7/dist-packages (from google-api-core<2dev,>=1.21.0->google-api-python-client>=1.2->PyDrive) (3.12.4)\n",
            "Requirement already satisfied: googleapis-common-protos<2.0dev,>=1.6.0 in /usr/local/lib/python3.7/dist-packages (from google-api-core<2dev,>=1.21.0->google-api-python-client>=1.2->PyDrive) (1.53.0)\n",
            "Requirement already satisfied: setuptools>=40.3.0 in /usr/local/lib/python3.7/dist-packages (from google-api-core<2dev,>=1.21.0->google-api-python-client>=1.2->PyDrive) (57.0.0)\n",
            "Requirement already satisfied: requests<3.0.0dev,>=2.18.0 in /usr/local/lib/python3.7/dist-packages (from google-api-core<2dev,>=1.21.0->google-api-python-client>=1.2->PyDrive) (2.23.0)\n",
            "Requirement already satisfied: cachetools<5.0,>=2.0.0 in /usr/local/lib/python3.7/dist-packages (from google-auth>=1.16.0->google-api-python-client>=1.2->PyDrive) (4.2.2)\n",
            "Requirement already satisfied: pyparsing>=2.0.2 in /usr/local/lib/python3.7/dist-packages (from packaging>=14.3->google-api-core<2dev,>=1.21.0->google-api-python-client>=1.2->PyDrive) (2.4.7)\n",
            "Requirement already satisfied: certifi>=2017.4.17 in /usr/local/lib/python3.7/dist-packages (from requests<3.0.0dev,>=2.18.0->google-api-core<2dev,>=1.21.0->google-api-python-client>=1.2->PyDrive) (2021.5.30)\n",
            "Requirement already satisfied: chardet<4,>=3.0.2 in /usr/local/lib/python3.7/dist-packages (from requests<3.0.0dev,>=2.18.0->google-api-core<2dev,>=1.21.0->google-api-python-client>=1.2->PyDrive) (3.0.4)\n",
            "Requirement already satisfied: urllib3!=1.25.0,!=1.25.1,<1.26,>=1.21.1 in /usr/local/lib/python3.7/dist-packages (from requests<3.0.0dev,>=2.18.0->google-api-core<2dev,>=1.21.0->google-api-python-client>=1.2->PyDrive) (1.24.3)\n",
            "Requirement already satisfied: idna<3,>=2.5 in /usr/local/lib/python3.7/dist-packages (from requests<3.0.0dev,>=2.18.0->google-api-core<2dev,>=1.21.0->google-api-python-client>=1.2->PyDrive) (2.10)\n"
          ],
          "name": "stdout"
        },
        {
          "output_type": "execute_result",
          "data": {
            "text/plain": [
              "GoogleDriveFile({'id': '10dl3yzGKvcFPAdB8pfj3xgZ7XyB6l79_', 'kind': 'drive#file', 'etag': '\"MTYyNTE4MDIxMTU2NQ\"', 'selfLink': 'https://www.googleapis.com/drive/v2/files/10dl3yzGKvcFPAdB8pfj3xgZ7XyB6l79_', 'webContentLink': 'https://drive.google.com/uc?id=10dl3yzGKvcFPAdB8pfj3xgZ7XyB6l79_&export=download', 'alternateLink': 'https://drive.google.com/file/d/10dl3yzGKvcFPAdB8pfj3xgZ7XyB6l79_/view?usp=drivesdk', 'embedLink': 'https://drive.google.com/file/d/10dl3yzGKvcFPAdB8pfj3xgZ7XyB6l79_/preview?usp=drivesdk', 'iconLink': 'https://drive-thirdparty.googleusercontent.com/16/type/text/csv', 'title': 'data_titanic_proyecto.csv', 'mimeType': 'text/csv', 'labels': {'starred': False, 'hidden': False, 'trashed': False, 'restricted': False, 'viewed': True}, 'copyRequiresWriterPermission': False, 'createdDate': '2021-07-01T22:55:39.216Z', 'modifiedDate': '2021-07-01T22:56:51.565Z', 'modifiedByMeDate': '2021-07-01T22:56:51.565Z', 'lastViewedByMeDate': '2021-07-01T22:55:39.216Z', 'markedViewedByMeDate': '1970-01-01T00:00:00.000Z', 'version': '3', 'parents': [{'kind': 'drive#parentReference', 'id': '15TX3WHeplludKNH3brB7Kc6fQYLOEOVe', 'selfLink': 'https://www.googleapis.com/drive/v2/files/10dl3yzGKvcFPAdB8pfj3xgZ7XyB6l79_/parents/15TX3WHeplludKNH3brB7Kc6fQYLOEOVe', 'parentLink': 'https://www.googleapis.com/drive/v2/files/15TX3WHeplludKNH3brB7Kc6fQYLOEOVe', 'isRoot': False}], 'downloadUrl': 'https://www.googleapis.com/drive/v2/files/10dl3yzGKvcFPAdB8pfj3xgZ7XyB6l79_?alt=media&source=downloadUrl', 'userPermission': {'kind': 'drive#permission', 'etag': '\"_3NCFdyaIWnEU8djqGEl7BRIAD8\"', 'id': 'me', 'selfLink': 'https://www.googleapis.com/drive/v2/files/10dl3yzGKvcFPAdB8pfj3xgZ7XyB6l79_/permissions/me', 'role': 'owner', 'type': 'user'}, 'originalFilename': 'Copia de data_titanic_proyecto.csv', 'fileExtension': 'csv', 'md5Checksum': '8d43ae415e3fe5e2e29e657c21cd671e', 'fileSize': '62478', 'quotaBytesUsed': '62478', 'ownerNames': ['Byron Haroldo Linares Roman'], 'owners': [{'kind': 'drive#user', 'displayName': 'Byron Haroldo Linares Roman', 'picture': {'url': 'https://lh3.googleusercontent.com/a-/AOh14GhY8f9wHDhOHMkkc7TyU6fUZgegUzlyfyHifdHCgQ=s64'}, 'isAuthenticatedUser': True, 'permissionId': '00530245488351349117', 'emailAddress': 'bhlr@galileo.edu'}], 'lastModifyingUserName': 'Byron Haroldo Linares Roman', 'lastModifyingUser': {'kind': 'drive#user', 'displayName': 'Byron Haroldo Linares Roman', 'picture': {'url': 'https://lh3.googleusercontent.com/a-/AOh14GhY8f9wHDhOHMkkc7TyU6fUZgegUzlyfyHifdHCgQ=s64'}, 'isAuthenticatedUser': True, 'permissionId': '00530245488351349117', 'emailAddress': 'bhlr@galileo.edu'}, 'capabilities': {'canCopy': True, 'canEdit': True}, 'editable': True, 'copyable': True, 'writersCanShare': True, 'shared': True, 'explicitlyTrashed': False, 'appDataContents': False, 'headRevisionId': '0B5yO58N6LzpyZ0RRa0Zyb1dTNUhYUlZKcW1scE0rZjVJeFhVPQ', 'spaces': ['drive']})"
            ]
          },
          "metadata": {
            "tags": []
          },
          "execution_count": 4
        }
      ]
    },
    {
      "cell_type": "code",
      "metadata": {
        "colab": {
          "base_uri": "https://localhost:8080/",
          "height": 496
        },
        "id": "pP76yFhcWDPj",
        "outputId": "9fb5354d-3ad4-447a-8b3c-82a6a2fed254"
      },
      "source": [
        "titanic_data = pd.read_csv('data_titanic_proyecto.csv')\n",
        "titanic_data.head()"
      ],
      "execution_count": 5,
      "outputs": [
        {
          "output_type": "execute_result",
          "data": {
            "text/html": [
              "<div>\n",
              "<style scoped>\n",
              "    .dataframe tbody tr th:only-of-type {\n",
              "        vertical-align: middle;\n",
              "    }\n",
              "\n",
              "    .dataframe tbody tr th {\n",
              "        vertical-align: top;\n",
              "    }\n",
              "\n",
              "    .dataframe thead th {\n",
              "        text-align: right;\n",
              "    }\n",
              "</style>\n",
              "<table border=\"1\" class=\"dataframe\">\n",
              "  <thead>\n",
              "    <tr style=\"text-align: right;\">\n",
              "      <th></th>\n",
              "      <th>PassengerId</th>\n",
              "      <th>Name</th>\n",
              "      <th>Age</th>\n",
              "      <th>SibSp</th>\n",
              "      <th>Parch</th>\n",
              "      <th>Ticket</th>\n",
              "      <th>Fare</th>\n",
              "      <th>Cabin</th>\n",
              "      <th>Embarked</th>\n",
              "      <th>passenger_class</th>\n",
              "      <th>passenger_sex</th>\n",
              "      <th>passenger_survived</th>\n",
              "    </tr>\n",
              "  </thead>\n",
              "  <tbody>\n",
              "    <tr>\n",
              "      <th>0</th>\n",
              "      <td>1</td>\n",
              "      <td>Braund, Mr. Owen Harris</td>\n",
              "      <td>22.0</td>\n",
              "      <td>1</td>\n",
              "      <td>0</td>\n",
              "      <td>A/5 21171</td>\n",
              "      <td>7.2500</td>\n",
              "      <td>NaN</td>\n",
              "      <td>S</td>\n",
              "      <td>Lower</td>\n",
              "      <td>M</td>\n",
              "      <td>N</td>\n",
              "    </tr>\n",
              "    <tr>\n",
              "      <th>1</th>\n",
              "      <td>2</td>\n",
              "      <td>Cumings, Mrs. John Bradley (Florence Briggs Th...</td>\n",
              "      <td>38.0</td>\n",
              "      <td>1</td>\n",
              "      <td>0</td>\n",
              "      <td>PC 17599</td>\n",
              "      <td>71.2833</td>\n",
              "      <td>C85</td>\n",
              "      <td>C</td>\n",
              "      <td>Upper</td>\n",
              "      <td>F</td>\n",
              "      <td>Y</td>\n",
              "    </tr>\n",
              "    <tr>\n",
              "      <th>2</th>\n",
              "      <td>3</td>\n",
              "      <td>Heikkinen, Miss. Laina</td>\n",
              "      <td>26.0</td>\n",
              "      <td>0</td>\n",
              "      <td>0</td>\n",
              "      <td>STON/O2. 3101282</td>\n",
              "      <td>7.9250</td>\n",
              "      <td>NaN</td>\n",
              "      <td>S</td>\n",
              "      <td>Lower</td>\n",
              "      <td>F</td>\n",
              "      <td>Y</td>\n",
              "    </tr>\n",
              "    <tr>\n",
              "      <th>3</th>\n",
              "      <td>4</td>\n",
              "      <td>Futrelle, Mrs. Jacques Heath (Lily May Peel)</td>\n",
              "      <td>35.0</td>\n",
              "      <td>1</td>\n",
              "      <td>0</td>\n",
              "      <td>113803</td>\n",
              "      <td>53.1000</td>\n",
              "      <td>C123</td>\n",
              "      <td>S</td>\n",
              "      <td>Upper</td>\n",
              "      <td>F</td>\n",
              "      <td>Y</td>\n",
              "    </tr>\n",
              "    <tr>\n",
              "      <th>4</th>\n",
              "      <td>5</td>\n",
              "      <td>Allen, Mr. William Henry</td>\n",
              "      <td>35.0</td>\n",
              "      <td>0</td>\n",
              "      <td>0</td>\n",
              "      <td>373450</td>\n",
              "      <td>8.0500</td>\n",
              "      <td>NaN</td>\n",
              "      <td>S</td>\n",
              "      <td>Lower</td>\n",
              "      <td>M</td>\n",
              "      <td>N</td>\n",
              "    </tr>\n",
              "  </tbody>\n",
              "</table>\n",
              "</div>"
            ],
            "text/plain": [
              "   PassengerId  ... passenger_survived\n",
              "0            1  ...                  N\n",
              "1            2  ...                  Y\n",
              "2            3  ...                  Y\n",
              "3            4  ...                  Y\n",
              "4            5  ...                  N\n",
              "\n",
              "[5 rows x 12 columns]"
            ]
          },
          "metadata": {
            "tags": []
          },
          "execution_count": 5
        }
      ]
    },
    {
      "cell_type": "code",
      "metadata": {
        "colab": {
          "base_uri": "https://localhost:8080/"
        },
        "id": "dvSiEiboYT4V",
        "outputId": "7b1837c8-52b0-4e3c-8a79-08df59037528"
      },
      "source": [
        "titanic_data.dtypes"
      ],
      "execution_count": 6,
      "outputs": [
        {
          "output_type": "execute_result",
          "data": {
            "text/plain": [
              "PassengerId             int64\n",
              "Name                   object\n",
              "Age                   float64\n",
              "SibSp                   int64\n",
              "Parch                   int64\n",
              "Ticket                 object\n",
              "Fare                  float64\n",
              "Cabin                  object\n",
              "Embarked               object\n",
              "passenger_class        object\n",
              "passenger_sex          object\n",
              "passenger_survived     object\n",
              "dtype: object"
            ]
          },
          "metadata": {
            "tags": []
          },
          "execution_count": 6
        }
      ]
    },
    {
      "cell_type": "code",
      "metadata": {
        "colab": {
          "base_uri": "https://localhost:8080/"
        },
        "id": "IoxiQG6fc8hf",
        "outputId": "0e72f915-b9de-44c1-ab7b-52623d056173"
      },
      "source": [
        "titanic_data.isna().sum()/len(titanic_data)"
      ],
      "execution_count": 7,
      "outputs": [
        {
          "output_type": "execute_result",
          "data": {
            "text/plain": [
              "PassengerId           0.000000\n",
              "Name                  0.000000\n",
              "Age                   0.198653\n",
              "SibSp                 0.000000\n",
              "Parch                 0.000000\n",
              "Ticket                0.000000\n",
              "Fare                  0.000000\n",
              "Cabin                 0.771044\n",
              "Embarked              0.002245\n",
              "passenger_class       0.000000\n",
              "passenger_sex         0.000000\n",
              "passenger_survived    0.000000\n",
              "dtype: float64"
            ]
          },
          "metadata": {
            "tags": []
          },
          "execution_count": 7
        }
      ]
    },
    {
      "cell_type": "markdown",
      "metadata": {
        "id": "A0I_2ktcX_dp"
      },
      "source": [
        "Podemos observar una cantidad mayor a 5% de Na en algunas columnas, por la cantidad de datos procedemos a imputar. \n"
      ]
    },
    {
      "cell_type": "code",
      "metadata": {
        "id": "PoY-XWeMS4eh"
      },
      "source": [
        "#1 drop columns,\n",
        "titanic_data.dropna(axis = 1, how = 'any', inplace = True)\n"
      ],
      "execution_count": 8,
      "outputs": []
    },
    {
      "cell_type": "code",
      "metadata": {
        "colab": {
          "base_uri": "https://localhost:8080/"
        },
        "id": "7r7dV37XTRDW",
        "outputId": "615213a3-2038-4c7f-b98e-5b26759e4684"
      },
      "source": [
        "titanic_data.isna().sum()/len(titanic_data)"
      ],
      "execution_count": 9,
      "outputs": [
        {
          "output_type": "execute_result",
          "data": {
            "text/plain": [
              "PassengerId           0.0\n",
              "Name                  0.0\n",
              "SibSp                 0.0\n",
              "Parch                 0.0\n",
              "Ticket                0.0\n",
              "Fare                  0.0\n",
              "passenger_class       0.0\n",
              "passenger_sex         0.0\n",
              "passenger_survived    0.0\n",
              "dtype: float64"
            ]
          },
          "metadata": {
            "tags": []
          },
          "execution_count": 9
        }
      ]
    },
    {
      "cell_type": "code",
      "metadata": {
        "colab": {
          "base_uri": "https://localhost:8080/",
          "height": 496
        },
        "id": "jBmbUE0ETV2E",
        "outputId": "0333ff49-13b2-4da6-d5f3-36fdc2a3141e"
      },
      "source": [
        "titanic_data.head()"
      ],
      "execution_count": 10,
      "outputs": [
        {
          "output_type": "execute_result",
          "data": {
            "text/html": [
              "<div>\n",
              "<style scoped>\n",
              "    .dataframe tbody tr th:only-of-type {\n",
              "        vertical-align: middle;\n",
              "    }\n",
              "\n",
              "    .dataframe tbody tr th {\n",
              "        vertical-align: top;\n",
              "    }\n",
              "\n",
              "    .dataframe thead th {\n",
              "        text-align: right;\n",
              "    }\n",
              "</style>\n",
              "<table border=\"1\" class=\"dataframe\">\n",
              "  <thead>\n",
              "    <tr style=\"text-align: right;\">\n",
              "      <th></th>\n",
              "      <th>PassengerId</th>\n",
              "      <th>Name</th>\n",
              "      <th>SibSp</th>\n",
              "      <th>Parch</th>\n",
              "      <th>Ticket</th>\n",
              "      <th>Fare</th>\n",
              "      <th>passenger_class</th>\n",
              "      <th>passenger_sex</th>\n",
              "      <th>passenger_survived</th>\n",
              "    </tr>\n",
              "  </thead>\n",
              "  <tbody>\n",
              "    <tr>\n",
              "      <th>0</th>\n",
              "      <td>1</td>\n",
              "      <td>Braund, Mr. Owen Harris</td>\n",
              "      <td>1</td>\n",
              "      <td>0</td>\n",
              "      <td>A/5 21171</td>\n",
              "      <td>7.2500</td>\n",
              "      <td>Lower</td>\n",
              "      <td>M</td>\n",
              "      <td>N</td>\n",
              "    </tr>\n",
              "    <tr>\n",
              "      <th>1</th>\n",
              "      <td>2</td>\n",
              "      <td>Cumings, Mrs. John Bradley (Florence Briggs Th...</td>\n",
              "      <td>1</td>\n",
              "      <td>0</td>\n",
              "      <td>PC 17599</td>\n",
              "      <td>71.2833</td>\n",
              "      <td>Upper</td>\n",
              "      <td>F</td>\n",
              "      <td>Y</td>\n",
              "    </tr>\n",
              "    <tr>\n",
              "      <th>2</th>\n",
              "      <td>3</td>\n",
              "      <td>Heikkinen, Miss. Laina</td>\n",
              "      <td>0</td>\n",
              "      <td>0</td>\n",
              "      <td>STON/O2. 3101282</td>\n",
              "      <td>7.9250</td>\n",
              "      <td>Lower</td>\n",
              "      <td>F</td>\n",
              "      <td>Y</td>\n",
              "    </tr>\n",
              "    <tr>\n",
              "      <th>3</th>\n",
              "      <td>4</td>\n",
              "      <td>Futrelle, Mrs. Jacques Heath (Lily May Peel)</td>\n",
              "      <td>1</td>\n",
              "      <td>0</td>\n",
              "      <td>113803</td>\n",
              "      <td>53.1000</td>\n",
              "      <td>Upper</td>\n",
              "      <td>F</td>\n",
              "      <td>Y</td>\n",
              "    </tr>\n",
              "    <tr>\n",
              "      <th>4</th>\n",
              "      <td>5</td>\n",
              "      <td>Allen, Mr. William Henry</td>\n",
              "      <td>0</td>\n",
              "      <td>0</td>\n",
              "      <td>373450</td>\n",
              "      <td>8.0500</td>\n",
              "      <td>Lower</td>\n",
              "      <td>M</td>\n",
              "      <td>N</td>\n",
              "    </tr>\n",
              "  </tbody>\n",
              "</table>\n",
              "</div>"
            ],
            "text/plain": [
              "   PassengerId  ... passenger_survived\n",
              "0            1  ...                  N\n",
              "1            2  ...                  Y\n",
              "2            3  ...                  Y\n",
              "3            4  ...                  Y\n",
              "4            5  ...                  N\n",
              "\n",
              "[5 rows x 9 columns]"
            ]
          },
          "metadata": {
            "tags": []
          },
          "execution_count": 10
        }
      ]
    },
    {
      "cell_type": "markdown",
      "metadata": {
        "id": "UZ1iQIbZYgxR"
      },
      "source": [
        "Contamos con dos variables categoricas las cuales se usaran para la predicion passeger_sex y Passenger_class, se procede a hacer OHE y OrdinaryEncoding\n"
      ]
    },
    {
      "cell_type": "code",
      "metadata": {
        "id": "Er0jiMzHYwiB"
      },
      "source": [
        "enc = OrdinalEncoder()"
      ],
      "execution_count": 11,
      "outputs": []
    },
    {
      "cell_type": "code",
      "metadata": {
        "colab": {
          "base_uri": "https://localhost:8080/"
        },
        "id": "b-jb19vzhNe5",
        "outputId": "e6321c82-5e08-4dad-e06a-83f0c6d4f24d"
      },
      "source": [
        "titanic_data.passenger_class.unique()\n",
        "X = np.expand_dims(np.sort(titanic_data.passenger_class.unique()), axis = 1)\n",
        "X\n",
        "enc.fit(X)"
      ],
      "execution_count": 12,
      "outputs": [
        {
          "output_type": "execute_result",
          "data": {
            "text/plain": [
              "OrdinalEncoder(categories='auto', dtype=<class 'numpy.float64'>)"
            ]
          },
          "metadata": {
            "tags": []
          },
          "execution_count": 12
        }
      ]
    },
    {
      "cell_type": "code",
      "metadata": {
        "colab": {
          "base_uri": "https://localhost:8080/",
          "height": 496
        },
        "id": "MLJcUpZ0kPMt",
        "outputId": "6f1e2bfd-45d8-4ccc-fbdb-077c3ea4d784"
      },
      "source": [
        "titanic_data['passenger_class'] = enc.transform(titanic_data[['passenger_class']])\n",
        "titanic_data.head()"
      ],
      "execution_count": 13,
      "outputs": [
        {
          "output_type": "execute_result",
          "data": {
            "text/html": [
              "<div>\n",
              "<style scoped>\n",
              "    .dataframe tbody tr th:only-of-type {\n",
              "        vertical-align: middle;\n",
              "    }\n",
              "\n",
              "    .dataframe tbody tr th {\n",
              "        vertical-align: top;\n",
              "    }\n",
              "\n",
              "    .dataframe thead th {\n",
              "        text-align: right;\n",
              "    }\n",
              "</style>\n",
              "<table border=\"1\" class=\"dataframe\">\n",
              "  <thead>\n",
              "    <tr style=\"text-align: right;\">\n",
              "      <th></th>\n",
              "      <th>PassengerId</th>\n",
              "      <th>Name</th>\n",
              "      <th>SibSp</th>\n",
              "      <th>Parch</th>\n",
              "      <th>Ticket</th>\n",
              "      <th>Fare</th>\n",
              "      <th>passenger_class</th>\n",
              "      <th>passenger_sex</th>\n",
              "      <th>passenger_survived</th>\n",
              "    </tr>\n",
              "  </thead>\n",
              "  <tbody>\n",
              "    <tr>\n",
              "      <th>0</th>\n",
              "      <td>1</td>\n",
              "      <td>Braund, Mr. Owen Harris</td>\n",
              "      <td>1</td>\n",
              "      <td>0</td>\n",
              "      <td>A/5 21171</td>\n",
              "      <td>7.2500</td>\n",
              "      <td>0.0</td>\n",
              "      <td>M</td>\n",
              "      <td>N</td>\n",
              "    </tr>\n",
              "    <tr>\n",
              "      <th>1</th>\n",
              "      <td>2</td>\n",
              "      <td>Cumings, Mrs. John Bradley (Florence Briggs Th...</td>\n",
              "      <td>1</td>\n",
              "      <td>0</td>\n",
              "      <td>PC 17599</td>\n",
              "      <td>71.2833</td>\n",
              "      <td>2.0</td>\n",
              "      <td>F</td>\n",
              "      <td>Y</td>\n",
              "    </tr>\n",
              "    <tr>\n",
              "      <th>2</th>\n",
              "      <td>3</td>\n",
              "      <td>Heikkinen, Miss. Laina</td>\n",
              "      <td>0</td>\n",
              "      <td>0</td>\n",
              "      <td>STON/O2. 3101282</td>\n",
              "      <td>7.9250</td>\n",
              "      <td>0.0</td>\n",
              "      <td>F</td>\n",
              "      <td>Y</td>\n",
              "    </tr>\n",
              "    <tr>\n",
              "      <th>3</th>\n",
              "      <td>4</td>\n",
              "      <td>Futrelle, Mrs. Jacques Heath (Lily May Peel)</td>\n",
              "      <td>1</td>\n",
              "      <td>0</td>\n",
              "      <td>113803</td>\n",
              "      <td>53.1000</td>\n",
              "      <td>2.0</td>\n",
              "      <td>F</td>\n",
              "      <td>Y</td>\n",
              "    </tr>\n",
              "    <tr>\n",
              "      <th>4</th>\n",
              "      <td>5</td>\n",
              "      <td>Allen, Mr. William Henry</td>\n",
              "      <td>0</td>\n",
              "      <td>0</td>\n",
              "      <td>373450</td>\n",
              "      <td>8.0500</td>\n",
              "      <td>0.0</td>\n",
              "      <td>M</td>\n",
              "      <td>N</td>\n",
              "    </tr>\n",
              "  </tbody>\n",
              "</table>\n",
              "</div>"
            ],
            "text/plain": [
              "   PassengerId  ... passenger_survived\n",
              "0            1  ...                  N\n",
              "1            2  ...                  Y\n",
              "2            3  ...                  Y\n",
              "3            4  ...                  Y\n",
              "4            5  ...                  N\n",
              "\n",
              "[5 rows x 9 columns]"
            ]
          },
          "metadata": {
            "tags": []
          },
          "execution_count": 13
        }
      ]
    },
    {
      "cell_type": "code",
      "metadata": {
        "colab": {
          "base_uri": "https://localhost:8080/"
        },
        "id": "1IZy1-lQk-dK",
        "outputId": "1717ef6c-060c-4182-8db8-e03b96cffcf1"
      },
      "source": [
        "titanic_data.passenger_sex.unique()"
      ],
      "execution_count": 14,
      "outputs": [
        {
          "output_type": "execute_result",
          "data": {
            "text/plain": [
              "array(['M', 'F'], dtype=object)"
            ]
          },
          "metadata": {
            "tags": []
          },
          "execution_count": 14
        }
      ]
    },
    {
      "cell_type": "markdown",
      "metadata": {
        "id": "fbnRKxmxkrVQ"
      },
      "source": [
        "Passenger_sex contiene dos categorias M o F, esta se puede escribir como es hombre si o no. \n",
        "**texto en negrita**"
      ]
    },
    {
      "cell_type": "code",
      "metadata": {
        "id": "698rhYH2l34m"
      },
      "source": [
        "titanic_data['passenger_sex'] = np.where(titanic_data['passenger_sex'] == 'M', 1, 0)"
      ],
      "execution_count": 15,
      "outputs": []
    },
    {
      "cell_type": "code",
      "metadata": {
        "colab": {
          "base_uri": "https://localhost:8080/",
          "height": 496
        },
        "id": "HkdDtww1mKrc",
        "outputId": "0366ca2c-c9b1-4f54-a065-4a40cc03e5dd"
      },
      "source": [
        "titanic_data.head()"
      ],
      "execution_count": 16,
      "outputs": [
        {
          "output_type": "execute_result",
          "data": {
            "text/html": [
              "<div>\n",
              "<style scoped>\n",
              "    .dataframe tbody tr th:only-of-type {\n",
              "        vertical-align: middle;\n",
              "    }\n",
              "\n",
              "    .dataframe tbody tr th {\n",
              "        vertical-align: top;\n",
              "    }\n",
              "\n",
              "    .dataframe thead th {\n",
              "        text-align: right;\n",
              "    }\n",
              "</style>\n",
              "<table border=\"1\" class=\"dataframe\">\n",
              "  <thead>\n",
              "    <tr style=\"text-align: right;\">\n",
              "      <th></th>\n",
              "      <th>PassengerId</th>\n",
              "      <th>Name</th>\n",
              "      <th>SibSp</th>\n",
              "      <th>Parch</th>\n",
              "      <th>Ticket</th>\n",
              "      <th>Fare</th>\n",
              "      <th>passenger_class</th>\n",
              "      <th>passenger_sex</th>\n",
              "      <th>passenger_survived</th>\n",
              "    </tr>\n",
              "  </thead>\n",
              "  <tbody>\n",
              "    <tr>\n",
              "      <th>0</th>\n",
              "      <td>1</td>\n",
              "      <td>Braund, Mr. Owen Harris</td>\n",
              "      <td>1</td>\n",
              "      <td>0</td>\n",
              "      <td>A/5 21171</td>\n",
              "      <td>7.2500</td>\n",
              "      <td>0.0</td>\n",
              "      <td>1</td>\n",
              "      <td>N</td>\n",
              "    </tr>\n",
              "    <tr>\n",
              "      <th>1</th>\n",
              "      <td>2</td>\n",
              "      <td>Cumings, Mrs. John Bradley (Florence Briggs Th...</td>\n",
              "      <td>1</td>\n",
              "      <td>0</td>\n",
              "      <td>PC 17599</td>\n",
              "      <td>71.2833</td>\n",
              "      <td>2.0</td>\n",
              "      <td>0</td>\n",
              "      <td>Y</td>\n",
              "    </tr>\n",
              "    <tr>\n",
              "      <th>2</th>\n",
              "      <td>3</td>\n",
              "      <td>Heikkinen, Miss. Laina</td>\n",
              "      <td>0</td>\n",
              "      <td>0</td>\n",
              "      <td>STON/O2. 3101282</td>\n",
              "      <td>7.9250</td>\n",
              "      <td>0.0</td>\n",
              "      <td>0</td>\n",
              "      <td>Y</td>\n",
              "    </tr>\n",
              "    <tr>\n",
              "      <th>3</th>\n",
              "      <td>4</td>\n",
              "      <td>Futrelle, Mrs. Jacques Heath (Lily May Peel)</td>\n",
              "      <td>1</td>\n",
              "      <td>0</td>\n",
              "      <td>113803</td>\n",
              "      <td>53.1000</td>\n",
              "      <td>2.0</td>\n",
              "      <td>0</td>\n",
              "      <td>Y</td>\n",
              "    </tr>\n",
              "    <tr>\n",
              "      <th>4</th>\n",
              "      <td>5</td>\n",
              "      <td>Allen, Mr. William Henry</td>\n",
              "      <td>0</td>\n",
              "      <td>0</td>\n",
              "      <td>373450</td>\n",
              "      <td>8.0500</td>\n",
              "      <td>0.0</td>\n",
              "      <td>1</td>\n",
              "      <td>N</td>\n",
              "    </tr>\n",
              "  </tbody>\n",
              "</table>\n",
              "</div>"
            ],
            "text/plain": [
              "   PassengerId  ... passenger_survived\n",
              "0            1  ...                  N\n",
              "1            2  ...                  Y\n",
              "2            3  ...                  Y\n",
              "3            4  ...                  Y\n",
              "4            5  ...                  N\n",
              "\n",
              "[5 rows x 9 columns]"
            ]
          },
          "metadata": {
            "tags": []
          },
          "execution_count": 16
        }
      ]
    },
    {
      "cell_type": "markdown",
      "metadata": {
        "id": "8ZuEFeSnmWl_"
      },
      "source": [
        "La variable a predecir tambien tambien puede ser convertida a un valor binario  ya que cuenta con categorias Y o N, esta se puede escribir.\n"
      ]
    },
    {
      "cell_type": "code",
      "metadata": {
        "id": "MzXnkBImuIka"
      },
      "source": [
        "titanic_data['passenger_survived'] = np.where(titanic_data['passenger_survived'] == 'Y', 1, 0)"
      ],
      "execution_count": 17,
      "outputs": []
    },
    {
      "cell_type": "code",
      "metadata": {
        "colab": {
          "base_uri": "https://localhost:8080/",
          "height": 496
        },
        "id": "KbwR1cd9uuqv",
        "outputId": "5d5b6bc2-1d2b-411b-ce28-29a08220cdd6"
      },
      "source": [
        "titanic_data.head()"
      ],
      "execution_count": 18,
      "outputs": [
        {
          "output_type": "execute_result",
          "data": {
            "text/html": [
              "<div>\n",
              "<style scoped>\n",
              "    .dataframe tbody tr th:only-of-type {\n",
              "        vertical-align: middle;\n",
              "    }\n",
              "\n",
              "    .dataframe tbody tr th {\n",
              "        vertical-align: top;\n",
              "    }\n",
              "\n",
              "    .dataframe thead th {\n",
              "        text-align: right;\n",
              "    }\n",
              "</style>\n",
              "<table border=\"1\" class=\"dataframe\">\n",
              "  <thead>\n",
              "    <tr style=\"text-align: right;\">\n",
              "      <th></th>\n",
              "      <th>PassengerId</th>\n",
              "      <th>Name</th>\n",
              "      <th>SibSp</th>\n",
              "      <th>Parch</th>\n",
              "      <th>Ticket</th>\n",
              "      <th>Fare</th>\n",
              "      <th>passenger_class</th>\n",
              "      <th>passenger_sex</th>\n",
              "      <th>passenger_survived</th>\n",
              "    </tr>\n",
              "  </thead>\n",
              "  <tbody>\n",
              "    <tr>\n",
              "      <th>0</th>\n",
              "      <td>1</td>\n",
              "      <td>Braund, Mr. Owen Harris</td>\n",
              "      <td>1</td>\n",
              "      <td>0</td>\n",
              "      <td>A/5 21171</td>\n",
              "      <td>7.2500</td>\n",
              "      <td>0.0</td>\n",
              "      <td>1</td>\n",
              "      <td>0</td>\n",
              "    </tr>\n",
              "    <tr>\n",
              "      <th>1</th>\n",
              "      <td>2</td>\n",
              "      <td>Cumings, Mrs. John Bradley (Florence Briggs Th...</td>\n",
              "      <td>1</td>\n",
              "      <td>0</td>\n",
              "      <td>PC 17599</td>\n",
              "      <td>71.2833</td>\n",
              "      <td>2.0</td>\n",
              "      <td>0</td>\n",
              "      <td>1</td>\n",
              "    </tr>\n",
              "    <tr>\n",
              "      <th>2</th>\n",
              "      <td>3</td>\n",
              "      <td>Heikkinen, Miss. Laina</td>\n",
              "      <td>0</td>\n",
              "      <td>0</td>\n",
              "      <td>STON/O2. 3101282</td>\n",
              "      <td>7.9250</td>\n",
              "      <td>0.0</td>\n",
              "      <td>0</td>\n",
              "      <td>1</td>\n",
              "    </tr>\n",
              "    <tr>\n",
              "      <th>3</th>\n",
              "      <td>4</td>\n",
              "      <td>Futrelle, Mrs. Jacques Heath (Lily May Peel)</td>\n",
              "      <td>1</td>\n",
              "      <td>0</td>\n",
              "      <td>113803</td>\n",
              "      <td>53.1000</td>\n",
              "      <td>2.0</td>\n",
              "      <td>0</td>\n",
              "      <td>1</td>\n",
              "    </tr>\n",
              "    <tr>\n",
              "      <th>4</th>\n",
              "      <td>5</td>\n",
              "      <td>Allen, Mr. William Henry</td>\n",
              "      <td>0</td>\n",
              "      <td>0</td>\n",
              "      <td>373450</td>\n",
              "      <td>8.0500</td>\n",
              "      <td>0.0</td>\n",
              "      <td>1</td>\n",
              "      <td>0</td>\n",
              "    </tr>\n",
              "  </tbody>\n",
              "</table>\n",
              "</div>"
            ],
            "text/plain": [
              "   PassengerId  ... passenger_survived\n",
              "0            1  ...                  0\n",
              "1            2  ...                  1\n",
              "2            3  ...                  1\n",
              "3            4  ...                  1\n",
              "4            5  ...                  0\n",
              "\n",
              "[5 rows x 9 columns]"
            ]
          },
          "metadata": {
            "tags": []
          },
          "execution_count": 18
        }
      ]
    },
    {
      "cell_type": "code",
      "metadata": {
        "colab": {
          "base_uri": "https://localhost:8080/"
        },
        "id": "6KNftAhiwZz2",
        "outputId": "c77abf5a-711f-49a7-9463-3b75d098cd97"
      },
      "source": [
        "titanic_data.columns"
      ],
      "execution_count": 19,
      "outputs": [
        {
          "output_type": "execute_result",
          "data": {
            "text/plain": [
              "Index(['PassengerId', 'Name', 'SibSp', 'Parch', 'Ticket', 'Fare',\n",
              "       'passenger_class', 'passenger_sex', 'passenger_survived'],\n",
              "      dtype='object')"
            ]
          },
          "metadata": {
            "tags": []
          },
          "execution_count": 19
        }
      ]
    },
    {
      "cell_type": "code",
      "metadata": {
        "colab": {
          "base_uri": "https://localhost:8080/",
          "height": 1000
        },
        "id": "IsKgFXZGv6MX",
        "outputId": "944e3a83-1c63-4fd9-d37b-5e21fc866795"
      },
      "source": [
        "X = titanic_data\n",
        "for col in ['SibSp', 'Parch', 'Fare',\n",
        "       'passenger_class', 'passenger_sex', 'passenger_survived']:\n",
        "    X.loc[:, col].hist(density = True)\n",
        "    norm_fit = norm.fit(X.loc[:, col])\n",
        "    norm_dist_fitted = norm(*norm_fit)\n",
        "    plt.title(col)\n",
        "\n",
        "    X_range = X.loc[:, col].min(),X.loc[:, col].max()\n",
        "    X_values =  np.linspace(*X_range)\n",
        "    plt.plot(X_values,norm_dist_fitted.pdf(X_values))\n",
        "    plt.show()"
      ],
      "execution_count": 20,
      "outputs": [
        {
          "output_type": "display_data",
          "data": {
            "image/png": "[encoded data removed]",
            "text/plain": [
              "<Figure size 432x288 with 1 Axes>"
            ]
          },
          "metadata": {
            "tags": [],
            "needs_background": "light"
          }
        },
        {
          "output_type": "display_data",
          "data": {
            "image/png": "[encoded data removed]",
            "text/plain": [
              "<Figure size 432x288 with 1 Axes>"
            ]
          },
          "metadata": {
            "tags": [],
            "needs_background": "light"
          }
        },
        {
          "output_type": "display_data",
          "data": {
            "image/png": "[encoded data removed]",
            "text/plain": [
              "<Figure size 432x288 with 1 Axes>"
            ]
          },
          "metadata": {
            "tags": [],
            "needs_background": "light"
          }
        },
        {
          "output_type": "display_data",
          "data": {
            "image/png": "[encoded data removed]",
            "text/plain": [
              "<Figure size 432x288 with 1 Axes>"
            ]
          },
          "metadata": {
            "tags": [],
            "needs_background": "light"
          }
        },
        {
          "output_type": "display_data",
          "data": {
            "image/png": "[encoded data removed]",
            "text/plain": [
              "<Figure size 432x288 with 1 Axes>"
            ]
          },
          "metadata": {
            "tags": [],
            "needs_background": "light"
          }
        },
        {
          "output_type": "display_data",
          "data": {
            "image/png": "[encoded data removed]",
            "text/plain": [
              "<Figure size 432x288 with 1 Axes>"
            ]
          },
          "metadata": {
            "tags": [],
            "needs_background": "light"
          }
        }
      ]
    },
    {
      "cell_type": "markdown",
      "metadata": {
        "id": "e_6pG0il5bte"
      },
      "source": [
        "Eliminar columnas especificas que no aportan al modelo.\n"
      ]
    },
    {
      "cell_type": "code",
      "metadata": {
        "colab": {
          "base_uri": "https://localhost:8080/",
          "height": 204
        },
        "id": "ImDQEczQ5XvE",
        "outputId": "ac44e5bf-5062-4434-902e-8e36282765aa"
      },
      "source": [
        "titanic_data.drop(['PassengerId', 'Name', 'Ticket'], axis = 1, inplace = True)\n",
        "titanic_data.head()"
      ],
      "execution_count": 21,
      "outputs": [
        {
          "output_type": "execute_result",
          "data": {
            "text/html": [
              "<div>\n",
              "<style scoped>\n",
              "    .dataframe tbody tr th:only-of-type {\n",
              "        vertical-align: middle;\n",
              "    }\n",
              "\n",
              "    .dataframe tbody tr th {\n",
              "        vertical-align: top;\n",
              "    }\n",
              "\n",
              "    .dataframe thead th {\n",
              "        text-align: right;\n",
              "    }\n",
              "</style>\n",
              "<table border=\"1\" class=\"dataframe\">\n",
              "  <thead>\n",
              "    <tr style=\"text-align: right;\">\n",
              "      <th></th>\n",
              "      <th>SibSp</th>\n",
              "      <th>Parch</th>\n",
              "      <th>Fare</th>\n",
              "      <th>passenger_class</th>\n",
              "      <th>passenger_sex</th>\n",
              "      <th>passenger_survived</th>\n",
              "    </tr>\n",
              "  </thead>\n",
              "  <tbody>\n",
              "    <tr>\n",
              "      <th>0</th>\n",
              "      <td>1</td>\n",
              "      <td>0</td>\n",
              "      <td>7.2500</td>\n",
              "      <td>0.0</td>\n",
              "      <td>1</td>\n",
              "      <td>0</td>\n",
              "    </tr>\n",
              "    <tr>\n",
              "      <th>1</th>\n",
              "      <td>1</td>\n",
              "      <td>0</td>\n",
              "      <td>71.2833</td>\n",
              "      <td>2.0</td>\n",
              "      <td>0</td>\n",
              "      <td>1</td>\n",
              "    </tr>\n",
              "    <tr>\n",
              "      <th>2</th>\n",
              "      <td>0</td>\n",
              "      <td>0</td>\n",
              "      <td>7.9250</td>\n",
              "      <td>0.0</td>\n",
              "      <td>0</td>\n",
              "      <td>1</td>\n",
              "    </tr>\n",
              "    <tr>\n",
              "      <th>3</th>\n",
              "      <td>1</td>\n",
              "      <td>0</td>\n",
              "      <td>53.1000</td>\n",
              "      <td>2.0</td>\n",
              "      <td>0</td>\n",
              "      <td>1</td>\n",
              "    </tr>\n",
              "    <tr>\n",
              "      <th>4</th>\n",
              "      <td>0</td>\n",
              "      <td>0</td>\n",
              "      <td>8.0500</td>\n",
              "      <td>0.0</td>\n",
              "      <td>1</td>\n",
              "      <td>0</td>\n",
              "    </tr>\n",
              "  </tbody>\n",
              "</table>\n",
              "</div>"
            ],
            "text/plain": [
              "   SibSp  Parch     Fare  passenger_class  passenger_sex  passenger_survived\n",
              "0      1      0   7.2500              0.0              1                   0\n",
              "1      1      0  71.2833              2.0              0                   1\n",
              "2      0      0   7.9250              0.0              0                   1\n",
              "3      1      0  53.1000              2.0              0                   1\n",
              "4      0      0   8.0500              0.0              1                   0"
            ]
          },
          "metadata": {
            "tags": []
          },
          "execution_count": 21
        }
      ]
    },
    {
      "cell_type": "markdown",
      "metadata": {
        "id": "W-VBR8Iw6Ak1"
      },
      "source": [
        "Separar datos en train y test"
      ]
    },
    {
      "cell_type": "code",
      "metadata": {
        "id": "QP6yTSbJGZs_"
      },
      "source": [
        "X_train, X_valid = train_test_split(titanic_data, test_size = 0.40, random_state = 45)"
      ],
      "execution_count": 22,
      "outputs": []
    },
    {
      "cell_type": "code",
      "metadata": {
        "colab": {
          "base_uri": "https://localhost:8080/",
          "height": 204
        },
        "id": "O9eFjrHRGxBG",
        "outputId": "5bff51cc-ee1e-4f47-b443-b3b34e5dfc78"
      },
      "source": [
        "X_valid.head()"
      ],
      "execution_count": 23,
      "outputs": [
        {
          "output_type": "execute_result",
          "data": {
            "text/html": [
              "<div>\n",
              "<style scoped>\n",
              "    .dataframe tbody tr th:only-of-type {\n",
              "        vertical-align: middle;\n",
              "    }\n",
              "\n",
              "    .dataframe tbody tr th {\n",
              "        vertical-align: top;\n",
              "    }\n",
              "\n",
              "    .dataframe thead th {\n",
              "        text-align: right;\n",
              "    }\n",
              "</style>\n",
              "<table border=\"1\" class=\"dataframe\">\n",
              "  <thead>\n",
              "    <tr style=\"text-align: right;\">\n",
              "      <th></th>\n",
              "      <th>SibSp</th>\n",
              "      <th>Parch</th>\n",
              "      <th>Fare</th>\n",
              "      <th>passenger_class</th>\n",
              "      <th>passenger_sex</th>\n",
              "      <th>passenger_survived</th>\n",
              "    </tr>\n",
              "  </thead>\n",
              "  <tbody>\n",
              "    <tr>\n",
              "      <th>248</th>\n",
              "      <td>1</td>\n",
              "      <td>1</td>\n",
              "      <td>52.5542</td>\n",
              "      <td>2.0</td>\n",
              "      <td>1</td>\n",
              "      <td>1</td>\n",
              "    </tr>\n",
              "    <tr>\n",
              "      <th>197</th>\n",
              "      <td>0</td>\n",
              "      <td>1</td>\n",
              "      <td>8.4042</td>\n",
              "      <td>0.0</td>\n",
              "      <td>1</td>\n",
              "      <td>0</td>\n",
              "    </tr>\n",
              "    <tr>\n",
              "      <th>133</th>\n",
              "      <td>1</td>\n",
              "      <td>0</td>\n",
              "      <td>26.0000</td>\n",
              "      <td>1.0</td>\n",
              "      <td>0</td>\n",
              "      <td>1</td>\n",
              "    </tr>\n",
              "    <tr>\n",
              "      <th>169</th>\n",
              "      <td>0</td>\n",
              "      <td>0</td>\n",
              "      <td>56.4958</td>\n",
              "      <td>0.0</td>\n",
              "      <td>1</td>\n",
              "      <td>0</td>\n",
              "    </tr>\n",
              "    <tr>\n",
              "      <th>736</th>\n",
              "      <td>1</td>\n",
              "      <td>3</td>\n",
              "      <td>34.3750</td>\n",
              "      <td>0.0</td>\n",
              "      <td>0</td>\n",
              "      <td>0</td>\n",
              "    </tr>\n",
              "  </tbody>\n",
              "</table>\n",
              "</div>"
            ],
            "text/plain": [
              "     SibSp  Parch     Fare  passenger_class  passenger_sex  passenger_survived\n",
              "248      1      1  52.5542              2.0              1                   1\n",
              "197      0      1   8.4042              0.0              1                   0\n",
              "133      1      0  26.0000              1.0              0                   1\n",
              "169      0      0  56.4958              0.0              1                   0\n",
              "736      1      3  34.3750              0.0              0                   0"
            ]
          },
          "metadata": {
            "tags": []
          },
          "execution_count": 23
        }
      ]
    },
    {
      "cell_type": "code",
      "metadata": {
        "id": "Yj9HdpxXHiKW"
      },
      "source": [
        "X_valid, X_test, y_valid, y_test  = train_test_split(X_valid.iloc[:, :-1], X_valid[['passenger_survived']],test_size = 0.50, random_state = 46)"
      ],
      "execution_count": 24,
      "outputs": []
    },
    {
      "cell_type": "code",
      "metadata": {
        "colab": {
          "base_uri": "https://localhost:8080/",
          "height": 204
        },
        "id": "KA353iVlHxQf",
        "outputId": "6a9890b7-e58d-4baf-a737-1e9c6a10a65a"
      },
      "source": [
        "X_test.head()"
      ],
      "execution_count": 25,
      "outputs": [
        {
          "output_type": "execute_result",
          "data": {
            "text/html": [
              "<div>\n",
              "<style scoped>\n",
              "    .dataframe tbody tr th:only-of-type {\n",
              "        vertical-align: middle;\n",
              "    }\n",
              "\n",
              "    .dataframe tbody tr th {\n",
              "        vertical-align: top;\n",
              "    }\n",
              "\n",
              "    .dataframe thead th {\n",
              "        text-align: right;\n",
              "    }\n",
              "</style>\n",
              "<table border=\"1\" class=\"dataframe\">\n",
              "  <thead>\n",
              "    <tr style=\"text-align: right;\">\n",
              "      <th></th>\n",
              "      <th>SibSp</th>\n",
              "      <th>Parch</th>\n",
              "      <th>Fare</th>\n",
              "      <th>passenger_class</th>\n",
              "      <th>passenger_sex</th>\n",
              "    </tr>\n",
              "  </thead>\n",
              "  <tbody>\n",
              "    <tr>\n",
              "      <th>858</th>\n",
              "      <td>0</td>\n",
              "      <td>3</td>\n",
              "      <td>19.2583</td>\n",
              "      <td>0.0</td>\n",
              "      <td>0</td>\n",
              "    </tr>\n",
              "    <tr>\n",
              "      <th>11</th>\n",
              "      <td>0</td>\n",
              "      <td>0</td>\n",
              "      <td>26.5500</td>\n",
              "      <td>2.0</td>\n",
              "      <td>0</td>\n",
              "    </tr>\n",
              "    <tr>\n",
              "      <th>682</th>\n",
              "      <td>0</td>\n",
              "      <td>0</td>\n",
              "      <td>9.2250</td>\n",
              "      <td>0.0</td>\n",
              "      <td>1</td>\n",
              "    </tr>\n",
              "    <tr>\n",
              "      <th>206</th>\n",
              "      <td>1</td>\n",
              "      <td>0</td>\n",
              "      <td>15.8500</td>\n",
              "      <td>0.0</td>\n",
              "      <td>1</td>\n",
              "    </tr>\n",
              "    <tr>\n",
              "      <th>604</th>\n",
              "      <td>0</td>\n",
              "      <td>0</td>\n",
              "      <td>26.5500</td>\n",
              "      <td>2.0</td>\n",
              "      <td>1</td>\n",
              "    </tr>\n",
              "  </tbody>\n",
              "</table>\n",
              "</div>"
            ],
            "text/plain": [
              "     SibSp  Parch     Fare  passenger_class  passenger_sex\n",
              "858      0      3  19.2583              0.0              0\n",
              "11       0      0  26.5500              2.0              0\n",
              "682      0      0   9.2250              0.0              1\n",
              "206      1      0  15.8500              0.0              1\n",
              "604      0      0  26.5500              2.0              1"
            ]
          },
          "metadata": {
            "tags": []
          },
          "execution_count": 25
        }
      ]
    },
    {
      "cell_type": "code",
      "metadata": {
        "colab": {
          "base_uri": "https://localhost:8080/",
          "height": 204
        },
        "id": "6ObAlbtK6AO1",
        "outputId": "172c7f75-b80b-4695-c272-b7929602715b"
      },
      "source": [
        "#X_train, X_test, y_train, y_test = train_test_split(titanic_data.iloc[:, :-1], titanic_data[['passenger_survived']], test_size = 0.25, random_state = 42)\n",
        "y_train = X_train[['passenger_survived']]\n",
        "X_train = X_train.iloc[:, :-1]\n",
        "X_train.head()"
      ],
      "execution_count": 26,
      "outputs": [
        {
          "output_type": "execute_result",
          "data": {
            "text/html": [
              "<div>\n",
              "<style scoped>\n",
              "    .dataframe tbody tr th:only-of-type {\n",
              "        vertical-align: middle;\n",
              "    }\n",
              "\n",
              "    .dataframe tbody tr th {\n",
              "        vertical-align: top;\n",
              "    }\n",
              "\n",
              "    .dataframe thead th {\n",
              "        text-align: right;\n",
              "    }\n",
              "</style>\n",
              "<table border=\"1\" class=\"dataframe\">\n",
              "  <thead>\n",
              "    <tr style=\"text-align: right;\">\n",
              "      <th></th>\n",
              "      <th>SibSp</th>\n",
              "      <th>Parch</th>\n",
              "      <th>Fare</th>\n",
              "      <th>passenger_class</th>\n",
              "      <th>passenger_sex</th>\n",
              "    </tr>\n",
              "  </thead>\n",
              "  <tbody>\n",
              "    <tr>\n",
              "      <th>138</th>\n",
              "      <td>0</td>\n",
              "      <td>0</td>\n",
              "      <td>9.2167</td>\n",
              "      <td>0.0</td>\n",
              "      <td>1</td>\n",
              "    </tr>\n",
              "    <tr>\n",
              "      <th>22</th>\n",
              "      <td>0</td>\n",
              "      <td>0</td>\n",
              "      <td>8.0292</td>\n",
              "      <td>0.0</td>\n",
              "      <td>0</td>\n",
              "    </tr>\n",
              "    <tr>\n",
              "      <th>353</th>\n",
              "      <td>1</td>\n",
              "      <td>0</td>\n",
              "      <td>17.8000</td>\n",
              "      <td>0.0</td>\n",
              "      <td>1</td>\n",
              "    </tr>\n",
              "    <tr>\n",
              "      <th>673</th>\n",
              "      <td>0</td>\n",
              "      <td>0</td>\n",
              "      <td>13.0000</td>\n",
              "      <td>1.0</td>\n",
              "      <td>1</td>\n",
              "    </tr>\n",
              "    <tr>\n",
              "      <th>273</th>\n",
              "      <td>0</td>\n",
              "      <td>1</td>\n",
              "      <td>29.7000</td>\n",
              "      <td>2.0</td>\n",
              "      <td>1</td>\n",
              "    </tr>\n",
              "  </tbody>\n",
              "</table>\n",
              "</div>"
            ],
            "text/plain": [
              "     SibSp  Parch     Fare  passenger_class  passenger_sex\n",
              "138      0      0   9.2167              0.0              1\n",
              "22       0      0   8.0292              0.0              0\n",
              "353      1      0  17.8000              0.0              1\n",
              "673      0      0  13.0000              1.0              1\n",
              "273      0      1  29.7000              2.0              1"
            ]
          },
          "metadata": {
            "tags": []
          },
          "execution_count": 26
        }
      ]
    },
    {
      "cell_type": "code",
      "metadata": {
        "colab": {
          "base_uri": "https://localhost:8080/",
          "height": 204
        },
        "id": "p8bz0dXVBLiZ",
        "outputId": "88c4b575-e488-4d2a-8d93-ce7b2c53520c"
      },
      "source": [
        "X_train.head()"
      ],
      "execution_count": 73,
      "outputs": [
        {
          "output_type": "execute_result",
          "data": {
            "text/html": [
              "<div>\n",
              "<style scoped>\n",
              "    .dataframe tbody tr th:only-of-type {\n",
              "        vertical-align: middle;\n",
              "    }\n",
              "\n",
              "    .dataframe tbody tr th {\n",
              "        vertical-align: top;\n",
              "    }\n",
              "\n",
              "    .dataframe thead th {\n",
              "        text-align: right;\n",
              "    }\n",
              "</style>\n",
              "<table border=\"1\" class=\"dataframe\">\n",
              "  <thead>\n",
              "    <tr style=\"text-align: right;\">\n",
              "      <th></th>\n",
              "      <th>SibSp</th>\n",
              "      <th>Parch</th>\n",
              "      <th>Fare</th>\n",
              "      <th>passenger_class</th>\n",
              "      <th>passenger_sex</th>\n",
              "    </tr>\n",
              "  </thead>\n",
              "  <tbody>\n",
              "    <tr>\n",
              "      <th>298</th>\n",
              "      <td>0</td>\n",
              "      <td>0</td>\n",
              "      <td>30.5000</td>\n",
              "      <td>2.0</td>\n",
              "      <td>1</td>\n",
              "    </tr>\n",
              "    <tr>\n",
              "      <th>884</th>\n",
              "      <td>0</td>\n",
              "      <td>0</td>\n",
              "      <td>7.0500</td>\n",
              "      <td>0.0</td>\n",
              "      <td>1</td>\n",
              "    </tr>\n",
              "    <tr>\n",
              "      <th>247</th>\n",
              "      <td>0</td>\n",
              "      <td>2</td>\n",
              "      <td>14.5000</td>\n",
              "      <td>1.0</td>\n",
              "      <td>0</td>\n",
              "    </tr>\n",
              "    <tr>\n",
              "      <th>478</th>\n",
              "      <td>0</td>\n",
              "      <td>0</td>\n",
              "      <td>7.5208</td>\n",
              "      <td>0.0</td>\n",
              "      <td>1</td>\n",
              "    </tr>\n",
              "    <tr>\n",
              "      <th>305</th>\n",
              "      <td>1</td>\n",
              "      <td>2</td>\n",
              "      <td>151.5500</td>\n",
              "      <td>2.0</td>\n",
              "      <td>1</td>\n",
              "    </tr>\n",
              "  </tbody>\n",
              "</table>\n",
              "</div>"
            ],
            "text/plain": [
              "     SibSp  Parch      Fare  passenger_class  passenger_sex\n",
              "298      0      0   30.5000              2.0              1\n",
              "884      0      0    7.0500              0.0              1\n",
              "247      0      2   14.5000              1.0              0\n",
              "478      0      0    7.5208              0.0              1\n",
              "305      1      2  151.5500              2.0              1"
            ]
          },
          "metadata": {
            "tags": []
          },
          "execution_count": 73
        }
      ]
    },
    {
      "cell_type": "code",
      "metadata": {
        "colab": {
          "base_uri": "https://localhost:8080/",
          "height": 204
        },
        "id": "aQDhYTdvCgS3",
        "outputId": "d7fab5ec-899d-46b4-fb94-375835dc61f5"
      },
      "source": [
        "y_train.head()"
      ],
      "execution_count": 74,
      "outputs": [
        {
          "output_type": "execute_result",
          "data": {
            "text/html": [
              "<div>\n",
              "<style scoped>\n",
              "    .dataframe tbody tr th:only-of-type {\n",
              "        vertical-align: middle;\n",
              "    }\n",
              "\n",
              "    .dataframe tbody tr th {\n",
              "        vertical-align: top;\n",
              "    }\n",
              "\n",
              "    .dataframe thead th {\n",
              "        text-align: right;\n",
              "    }\n",
              "</style>\n",
              "<table border=\"1\" class=\"dataframe\">\n",
              "  <thead>\n",
              "    <tr style=\"text-align: right;\">\n",
              "      <th></th>\n",
              "      <th>passenger_survived</th>\n",
              "    </tr>\n",
              "  </thead>\n",
              "  <tbody>\n",
              "    <tr>\n",
              "      <th>298</th>\n",
              "      <td>1</td>\n",
              "    </tr>\n",
              "    <tr>\n",
              "      <th>884</th>\n",
              "      <td>0</td>\n",
              "    </tr>\n",
              "    <tr>\n",
              "      <th>247</th>\n",
              "      <td>1</td>\n",
              "    </tr>\n",
              "    <tr>\n",
              "      <th>478</th>\n",
              "      <td>0</td>\n",
              "    </tr>\n",
              "    <tr>\n",
              "      <th>305</th>\n",
              "      <td>1</td>\n",
              "    </tr>\n",
              "  </tbody>\n",
              "</table>\n",
              "</div>"
            ],
            "text/plain": [
              "     passenger_survived\n",
              "298                   1\n",
              "884                   0\n",
              "247                   1\n",
              "478                   0\n",
              "305                   1"
            ]
          },
          "metadata": {
            "tags": []
          },
          "execution_count": 74
        }
      ]
    },
    {
      "cell_type": "code",
      "metadata": {
        "id": "A_aHlysSC6zR"
      },
      "source": [
        ""
      ],
      "execution_count": 78,
      "outputs": []
    },
    {
      "cell_type": "code",
      "metadata": {
        "colab": {
          "base_uri": "https://localhost:8080/"
        },
        "id": "EQo9bb3-C6nT",
        "outputId": "94473e34-fd50-4dd8-9ac3-37b71e486172"
      },
      "source": [
        "print(titanic_data.shape)\n",
        "print(X_train.shape)\n",
        "print(y_train.shape)\n",
        "print(X_test.shape)\n",
        "print(y_test.shape)\n",
        "print(X_valid.shape)\n",
        "print(y_valid.shape)\n"
      ],
      "execution_count": 27,
      "outputs": [
        {
          "output_type": "stream",
          "text": [
            "(891, 6)\n",
            "(534, 5)\n",
            "(534, 1)\n",
            "(179, 5)\n",
            "(179, 1)\n",
            "(178, 5)\n",
            "(178, 1)\n"
          ],
          "name": "stdout"
        }
      ]
    },
    {
      "cell_type": "markdown",
      "metadata": {
        "id": "IGiknwGM3U71"
      },
      "source": [
        "Modelos :"
      ]
    },
    {
      "cell_type": "code",
      "metadata": {
        "id": "Mtc9ORd9Ip74"
      },
      "source": [
        ""
      ],
      "execution_count": null,
      "outputs": []
    },
    {
      "cell_type": "code",
      "metadata": {
        "id": "35lOLIuo3QJe"
      },
      "source": [
        "def decisionTree(x, y, criterion = 'gini', splitter = 'best', max_depth = None, min_samples_split = 2):\n",
        "    \n",
        "    # Desicion trees\n",
        "    model_dt = DecisionTreeClassifier(criterion = criterion, splitter = splitter, max_depth = max_depth, min_samples_split = min_samples_split)\n",
        "    model_dt = model_dt.fit(x, y)\n",
        "\n",
        "    columns = '_'.join(list(x.columns))\n",
        "    log_str = 'decisionTree_criterion=' + criterion + '_splitter=' + splitter + '_max_depth={}'.format(max_depth) + '_min_samples_split={}'.format(min_samples_split) + columns\n",
        "      \n",
        "    joblib.dump(model_dt, log_str + '.joblib')\n",
        "    return model_dt, log_str\n",
        "    "
      ],
      "execution_count": 28,
      "outputs": []
    },
    {
      "cell_type": "code",
      "metadata": {
        "id": "S9J3l3cILIW4"
      },
      "source": [
        "model_dt, log_str = decisionTree(X_train, y_train)"
      ],
      "execution_count": 253,
      "outputs": []
    },
    {
      "cell_type": "code",
      "metadata": {
        "colab": {
          "base_uri": "https://localhost:8080/"
        },
        "id": "7YAWc06_Shr4",
        "outputId": "585ff8f7-3fc1-4d15-aad1-4f6aac0f410e"
      },
      "source": [
        "joblib.load(log_str + '.joblib', mmap_mode=None)"
      ],
      "execution_count": 255,
      "outputs": [
        {
          "output_type": "execute_result",
          "data": {
            "text/plain": [
              "DecisionTreeClassifier(ccp_alpha=0.0, class_weight=None, criterion='gini',\n",
              "                       max_depth=None, max_features=None, max_leaf_nodes=None,\n",
              "                       min_impurity_decrease=0.0, min_impurity_split=None,\n",
              "                       min_samples_leaf=1, min_samples_split=2,\n",
              "                       min_weight_fraction_leaf=0.0, presort='deprecated',\n",
              "                       random_state=None, splitter='best')"
            ]
          },
          "metadata": {
            "tags": []
          },
          "execution_count": 255
        }
      ]
    },
    {
      "cell_type": "code",
      "metadata": {
        "id": "TI7xDLByQ7sl"
      },
      "source": [
        "def SVM(x, y, c = 1, kernel = 'rbf', degree = 3):\n",
        "    \n",
        "    model_svc = SVC(C = c, kernel = kernel, degree = degree)\n",
        "    model_svc = model_svc.fit(x.values, np.squeeze(y.values, axis = 1))\n",
        "\n",
        "    columns = '_'.join(list(x.columns))\n",
        "    log_str = 'SVM_c={}'.format(c) + '_kernel=' + kernel + '_degree={}'.format(degree) + columns\n",
        "      \n",
        "    joblib.dump(model_svc, log_str + '.joblib')\n",
        "    return model_svc, log_str"
      ],
      "execution_count": 29,
      "outputs": []
    },
    {
      "cell_type": "code",
      "metadata": {
        "id": "CdXODpWM3MMM"
      },
      "source": [
        "\n",
        "# Naive Bayes Algorithm\n",
        "def summarize_dataset(data):\n",
        "  summaries = data.groupby('passenger_survived', as_index = True).agg(['mean', 'std'])\n",
        "  y_probs = data['passenger_survived'].value_counts(normalize = True).to_frame(name = 'class')\n",
        "  y_probs.columns = pd.MultiIndex.from_product([y_probs.columns, ['y_prob']])\n",
        "  model = summaries.merge(y_probs, left_index = True, right_index = True)\n",
        "  return model\n",
        "\n",
        "def naive_bayes(x,y,n):\n",
        "  data = x.merge(y, left_index = True, right_index = True)\n",
        "  model_nb = summarize_dataset(data)\n",
        "\n",
        "  columns = '_'.join(list(x.columns))\n",
        "  log_str = 'naivebayes_n={}'.format(n) + columns\n",
        "  model_nb.to_csv(log_str + '.csv')\n",
        "  return model_nb, log_str"
      ],
      "execution_count": 134,
      "outputs": []
    },
    {
      "cell_type": "code",
      "metadata": {
        "id": "-cYazLv4fSuj"
      },
      "source": [
        "\n",
        "\n",
        "# Calculate the Gaussian probability distribution function for x\n",
        "def calculate_probability(x, mean, stdev):\n",
        "\texponent = exp(-((x-mean)**2 / (2 * stdev**2 )))\n",
        "\treturn (1 / (sqrt(2 * pi) * stdev)) * exponent\n",
        "\n",
        "def bayes_prob(row, model):\n",
        "  y_probs = model.iloc[:,-1]\n",
        "  summaries = model.iloc[:,:-1]\n",
        "  probabilities = dict()\n",
        "  for class_y, y_prob in y_probs.items():\n",
        "    probabilities[class_y] = y_prob\n",
        "    for index, value in row.items():\n",
        "      stdev = summaries.loc[class_y, (index,'std')]\n",
        "      mean = summaries.loc[class_y, (index,'mean')]\n",
        "      probabilities[class_y] *= calculate_probability(row[index], mean, stdev)\n",
        "  return max(probabilities, key = probabilities.get)\n",
        "\n",
        "def naive_bayes_predict(model, X):\n",
        "  y_hat = X.apply(lambda row: bayes_prob(row, model), axis = 1)\n",
        "  return y_hat"
      ],
      "execution_count": 31,
      "outputs": []
    },
    {
      "cell_type": "code",
      "metadata": {
        "colab": {
          "base_uri": "https://localhost:8080/",
          "height": 193
        },
        "id": "9KTG2cOm7_ac",
        "outputId": "2cea74cc-e1e4-40d9-825a-b535c59a5bce"
      },
      "source": [
        "### test bayes\n",
        "model, log_str = naive_bayes(X_train,y_train)\n",
        "model\n",
        "\n"
      ],
      "execution_count": 259,
      "outputs": [
        {
          "output_type": "execute_result",
          "data": {
            "text/html": [
              "<div>\n",
              "<style scoped>\n",
              "    .dataframe tbody tr th:only-of-type {\n",
              "        vertical-align: middle;\n",
              "    }\n",
              "\n",
              "    .dataframe tbody tr th {\n",
              "        vertical-align: top;\n",
              "    }\n",
              "\n",
              "    .dataframe thead tr th {\n",
              "        text-align: left;\n",
              "    }\n",
              "\n",
              "    .dataframe thead tr:last-of-type th {\n",
              "        text-align: right;\n",
              "    }\n",
              "</style>\n",
              "<table border=\"1\" class=\"dataframe\">\n",
              "  <thead>\n",
              "    <tr>\n",
              "      <th></th>\n",
              "      <th colspan=\"2\" halign=\"left\">SibSp</th>\n",
              "      <th colspan=\"2\" halign=\"left\">Parch</th>\n",
              "      <th colspan=\"2\" halign=\"left\">Fare</th>\n",
              "      <th colspan=\"2\" halign=\"left\">passenger_class</th>\n",
              "      <th colspan=\"2\" halign=\"left\">passenger_sex</th>\n",
              "      <th>class</th>\n",
              "    </tr>\n",
              "    <tr>\n",
              "      <th></th>\n",
              "      <th>mean</th>\n",
              "      <th>std</th>\n",
              "      <th>mean</th>\n",
              "      <th>std</th>\n",
              "      <th>mean</th>\n",
              "      <th>std</th>\n",
              "      <th>mean</th>\n",
              "      <th>std</th>\n",
              "      <th>mean</th>\n",
              "      <th>std</th>\n",
              "      <th>y_prob</th>\n",
              "    </tr>\n",
              "    <tr>\n",
              "      <th>passenger_survived</th>\n",
              "      <th></th>\n",
              "      <th></th>\n",
              "      <th></th>\n",
              "      <th></th>\n",
              "      <th></th>\n",
              "      <th></th>\n",
              "      <th></th>\n",
              "      <th></th>\n",
              "      <th></th>\n",
              "      <th></th>\n",
              "      <th></th>\n",
              "    </tr>\n",
              "  </thead>\n",
              "  <tbody>\n",
              "    <tr>\n",
              "      <th>0</th>\n",
              "      <td>0.548896</td>\n",
              "      <td>1.305408</td>\n",
              "      <td>0.340694</td>\n",
              "      <td>0.851665</td>\n",
              "      <td>22.517728</td>\n",
              "      <td>32.171281</td>\n",
              "      <td>0.520505</td>\n",
              "      <td>0.765384</td>\n",
              "      <td>0.854890</td>\n",
              "      <td>0.352769</td>\n",
              "      <td>0.593633</td>\n",
              "    </tr>\n",
              "    <tr>\n",
              "      <th>1</th>\n",
              "      <td>0.488479</td>\n",
              "      <td>0.758352</td>\n",
              "      <td>0.479263</td>\n",
              "      <td>0.793949</td>\n",
              "      <td>49.726517</td>\n",
              "      <td>69.595484</td>\n",
              "      <td>1.041475</td>\n",
              "      <td>0.873018</td>\n",
              "      <td>0.341014</td>\n",
              "      <td>0.475146</td>\n",
              "      <td>0.406367</td>\n",
              "    </tr>\n",
              "  </tbody>\n",
              "</table>\n",
              "</div>"
            ],
            "text/plain": [
              "                       SibSp            ... passenger_sex     class\n",
              "                        mean       std  ...           std    y_prob\n",
              "passenger_survived                      ...                        \n",
              "0                   0.548896  1.305408  ...      0.352769  0.593633\n",
              "1                   0.488479  0.758352  ...      0.475146  0.406367\n",
              "\n",
              "[2 rows x 11 columns]"
            ]
          },
          "metadata": {
            "tags": []
          },
          "execution_count": 259
        }
      ]
    },
    {
      "cell_type": "code",
      "metadata": {
        "colab": {
          "base_uri": "https://localhost:8080/",
          "height": 419
        },
        "id": "KglTTesj-jXN",
        "outputId": "63b9612d-5f9b-4217-dec6-d4a02477871b"
      },
      "source": [
        "X_valid\n",
        "y_pred = naive_bayes_predict(model, X_valid)\n",
        "data = X_valid.merge(y_valid, left_index = True, right_index = True)\n",
        "data.merge(y_pred.to_frame(name = 'y_pred'), left_index = True, right_index = True)\n"
      ],
      "execution_count": 210,
      "outputs": [
        {
          "output_type": "execute_result",
          "data": {
            "text/html": [
              "<div>\n",
              "<style scoped>\n",
              "    .dataframe tbody tr th:only-of-type {\n",
              "        vertical-align: middle;\n",
              "    }\n",
              "\n",
              "    .dataframe tbody tr th {\n",
              "        vertical-align: top;\n",
              "    }\n",
              "\n",
              "    .dataframe thead th {\n",
              "        text-align: right;\n",
              "    }\n",
              "</style>\n",
              "<table border=\"1\" class=\"dataframe\">\n",
              "  <thead>\n",
              "    <tr style=\"text-align: right;\">\n",
              "      <th></th>\n",
              "      <th>SibSp</th>\n",
              "      <th>Parch</th>\n",
              "      <th>Fare</th>\n",
              "      <th>passenger_class</th>\n",
              "      <th>passenger_sex</th>\n",
              "      <th>passenger_survived</th>\n",
              "      <th>y_pred</th>\n",
              "    </tr>\n",
              "  </thead>\n",
              "  <tbody>\n",
              "    <tr>\n",
              "      <th>506</th>\n",
              "      <td>0</td>\n",
              "      <td>2</td>\n",
              "      <td>26.0000</td>\n",
              "      <td>1.0</td>\n",
              "      <td>0</td>\n",
              "      <td>1</td>\n",
              "      <td>1</td>\n",
              "    </tr>\n",
              "    <tr>\n",
              "      <th>834</th>\n",
              "      <td>0</td>\n",
              "      <td>0</td>\n",
              "      <td>8.3000</td>\n",
              "      <td>0.0</td>\n",
              "      <td>1</td>\n",
              "      <td>0</td>\n",
              "      <td>0</td>\n",
              "    </tr>\n",
              "    <tr>\n",
              "      <th>775</th>\n",
              "      <td>0</td>\n",
              "      <td>0</td>\n",
              "      <td>7.7500</td>\n",
              "      <td>0.0</td>\n",
              "      <td>1</td>\n",
              "      <td>0</td>\n",
              "      <td>0</td>\n",
              "    </tr>\n",
              "    <tr>\n",
              "      <th>102</th>\n",
              "      <td>0</td>\n",
              "      <td>1</td>\n",
              "      <td>77.2875</td>\n",
              "      <td>2.0</td>\n",
              "      <td>1</td>\n",
              "      <td>0</td>\n",
              "      <td>1</td>\n",
              "    </tr>\n",
              "    <tr>\n",
              "      <th>666</th>\n",
              "      <td>0</td>\n",
              "      <td>0</td>\n",
              "      <td>13.0000</td>\n",
              "      <td>1.0</td>\n",
              "      <td>1</td>\n",
              "      <td>0</td>\n",
              "      <td>0</td>\n",
              "    </tr>\n",
              "    <tr>\n",
              "      <th>...</th>\n",
              "      <td>...</td>\n",
              "      <td>...</td>\n",
              "      <td>...</td>\n",
              "      <td>...</td>\n",
              "      <td>...</td>\n",
              "      <td>...</td>\n",
              "      <td>...</td>\n",
              "    </tr>\n",
              "    <tr>\n",
              "      <th>550</th>\n",
              "      <td>0</td>\n",
              "      <td>2</td>\n",
              "      <td>110.8833</td>\n",
              "      <td>2.0</td>\n",
              "      <td>1</td>\n",
              "      <td>1</td>\n",
              "      <td>1</td>\n",
              "    </tr>\n",
              "    <tr>\n",
              "      <th>404</th>\n",
              "      <td>0</td>\n",
              "      <td>0</td>\n",
              "      <td>8.6625</td>\n",
              "      <td>0.0</td>\n",
              "      <td>0</td>\n",
              "      <td>0</td>\n",
              "      <td>1</td>\n",
              "    </tr>\n",
              "    <tr>\n",
              "      <th>246</th>\n",
              "      <td>0</td>\n",
              "      <td>0</td>\n",
              "      <td>7.7750</td>\n",
              "      <td>0.0</td>\n",
              "      <td>0</td>\n",
              "      <td>0</td>\n",
              "      <td>1</td>\n",
              "    </tr>\n",
              "    <tr>\n",
              "      <th>588</th>\n",
              "      <td>0</td>\n",
              "      <td>0</td>\n",
              "      <td>8.0500</td>\n",
              "      <td>0.0</td>\n",
              "      <td>1</td>\n",
              "      <td>0</td>\n",
              "      <td>0</td>\n",
              "    </tr>\n",
              "    <tr>\n",
              "      <th>622</th>\n",
              "      <td>1</td>\n",
              "      <td>1</td>\n",
              "      <td>15.7417</td>\n",
              "      <td>0.0</td>\n",
              "      <td>1</td>\n",
              "      <td>1</td>\n",
              "      <td>0</td>\n",
              "    </tr>\n",
              "  </tbody>\n",
              "</table>\n",
              "<p>178 rows × 7 columns</p>\n",
              "</div>"
            ],
            "text/plain": [
              "     SibSp  Parch      Fare  ...  passenger_sex  passenger_survived  y_pred\n",
              "506      0      2   26.0000  ...              0                   1       1\n",
              "834      0      0    8.3000  ...              1                   0       0\n",
              "775      0      0    7.7500  ...              1                   0       0\n",
              "102      0      1   77.2875  ...              1                   0       1\n",
              "666      0      0   13.0000  ...              1                   0       0\n",
              "..     ...    ...       ...  ...            ...                 ...     ...\n",
              "550      0      2  110.8833  ...              1                   1       1\n",
              "404      0      0    8.6625  ...              0                   0       1\n",
              "246      0      0    7.7750  ...              0                   0       1\n",
              "588      0      0    8.0500  ...              1                   0       0\n",
              "622      1      1   15.7417  ...              1                   1       0\n",
              "\n",
              "[178 rows x 7 columns]"
            ]
          },
          "metadata": {
            "tags": []
          },
          "execution_count": 210
        }
      ]
    },
    {
      "cell_type": "code",
      "metadata": {
        "colab": {
          "base_uri": "https://localhost:8080/"
        },
        "id": "Br7mZd1DWGyh",
        "outputId": "dc17ec69-c5cf-4632-be3e-8c0a6d37349f"
      },
      "source": [
        "print(accuracy_score(y_valid, y_pred), '%')"
      ],
      "execution_count": 223,
      "outputs": [
        {
          "output_type": "stream",
          "text": [
            "0.7921348314606742 %\n"
          ],
          "name": "stdout"
        }
      ]
    },
    {
      "cell_type": "code",
      "metadata": {
        "id": "XUX7vvi-WnF_"
      },
      "source": [
        "def model_log(log_str,mtype, y, y_hat):\n",
        "    log_metrics = dict()\n",
        "    log_metrics['model'] = log_str\n",
        "    log_metrics['accuracy'] = sm.accuracy_score(y, y_hat)\n",
        "    log_metrics['precision'] = sm.precision_score(y, y_hat)\n",
        "    log_metrics['recall'] = sm.recall_score(y, y_hat)\n",
        "    log_metrics['f1-score'] = sm.f1_score(y, y_hat)\n",
        "    log_metrics['model_type'] = mtype\n",
        "    df = pd.DataFrame(data = log_metrics, index = [0])\n",
        "    df.to_csv('results.csv', mode = 'a', header = False, index = False)\n",
        "    print('save metrics')\n",
        "    return df"
      ],
      "execution_count": 32,
      "outputs": []
    },
    {
      "cell_type": "code",
      "metadata": {
        "colab": {
          "base_uri": "https://localhost:8080/"
        },
        "id": "4Ue-h2NbcCg9",
        "outputId": "986cfc25-09ad-4219-bc9a-15211177b5ab"
      },
      "source": [
        "model_log('holamundo', y_valid, y_pred)"
      ],
      "execution_count": 241,
      "outputs": [
        {
          "output_type": "stream",
          "text": [
            "save metrics\n"
          ],
          "name": "stdout"
        }
      ]
    },
    {
      "cell_type": "code",
      "metadata": {
        "colab": {
          "base_uri": "https://localhost:8080/",
          "height": 111
        },
        "id": "-CQwTVw_eIUJ",
        "outputId": "6fe1b033-32dc-4013-d33c-9d198c3a69f0"
      },
      "source": [
        "results = pd.read_csv('results.csv')\n",
        "results.head()"
      ],
      "execution_count": 242,
      "outputs": [
        {
          "output_type": "execute_result",
          "data": {
            "text/html": [
              "<div>\n",
              "<style scoped>\n",
              "    .dataframe tbody tr th:only-of-type {\n",
              "        vertical-align: middle;\n",
              "    }\n",
              "\n",
              "    .dataframe tbody tr th {\n",
              "        vertical-align: top;\n",
              "    }\n",
              "\n",
              "    .dataframe thead th {\n",
              "        text-align: right;\n",
              "    }\n",
              "</style>\n",
              "<table border=\"1\" class=\"dataframe\">\n",
              "  <thead>\n",
              "    <tr style=\"text-align: right;\">\n",
              "      <th></th>\n",
              "      <th>holamundo</th>\n",
              "      <th>0.7921348314606742</th>\n",
              "      <th>0.6923076923076923</th>\n",
              "      <th>0.7258064516129032</th>\n",
              "      <th>0.7086614173228347</th>\n",
              "    </tr>\n",
              "  </thead>\n",
              "  <tbody>\n",
              "    <tr>\n",
              "      <th>0</th>\n",
              "      <td>holamundo</td>\n",
              "      <td>0.792135</td>\n",
              "      <td>0.692308</td>\n",
              "      <td>0.725806</td>\n",
              "      <td>0.708661</td>\n",
              "    </tr>\n",
              "    <tr>\n",
              "      <th>1</th>\n",
              "      <td>holamundo</td>\n",
              "      <td>0.792135</td>\n",
              "      <td>0.692308</td>\n",
              "      <td>0.725806</td>\n",
              "      <td>0.708661</td>\n",
              "    </tr>\n",
              "  </tbody>\n",
              "</table>\n",
              "</div>"
            ],
            "text/plain": [
              "   holamundo  0.7921348314606742  ...  0.7258064516129032  0.7086614173228347\n",
              "0  holamundo            0.792135  ...            0.725806            0.708661\n",
              "1  holamundo            0.792135  ...            0.725806            0.708661\n",
              "\n",
              "[2 rows x 5 columns]"
            ]
          },
          "metadata": {
            "tags": []
          },
          "execution_count": 242
        }
      ]
    },
    {
      "cell_type": "markdown",
      "metadata": {
        "id": "sm5nzJHAkZ17"
      },
      "source": [
        "### **Sampleo bootstrap**\n"
      ]
    },
    {
      "cell_type": "code",
      "metadata": {
        "colab": {
          "base_uri": "https://localhost:8080/",
          "height": 182
        },
        "id": "IPB8EWFXknRu",
        "outputId": "445928bc-5ea3-459d-fbae-4a854760a477"
      },
      "source": [
        "X_train_m1, y_train_m1 = resample(X_train, y_train, n_samples = 400)\n",
        "\n",
        "model_dt1, log_str1 = decisionTree(X_train_m1, y_train_m1, criterion = 'gini', splitter = 'random', max_depth = None, min_samples_split =3)\n",
        "y_hat = model_dt1.predict(X_valid)\n",
        "stats = model_log(log_str1,'decisionTree', y_valid, y_hat)\n",
        "print(y_hat)\n",
        "stats.head()"
      ],
      "execution_count": 39,
      "outputs": [
        {
          "output_type": "stream",
          "text": [
            "save metrics\n",
            "[1 0 0 1 0 0 0 0 0 1 1 0 0 1 0 1 0 0 1 1 0 1 0 0 0 0 0 0 1 0 0 0 0 1 0 0 1\n",
            " 1 0 0 0 0 0 0 0 0 0 0 0 1 0 0 0 1 0 0 0 0 0 0 1 0 0 0 0 1 0 0 0 0 0 1 0 0\n",
            " 0 0 1 1 0 1 1 1 0 0 0 0 0 1 1 0 0 0 0 1 0 1 0 0 0 0 0 1 0 0 0 0 1 0 0 0 0\n",
            " 0 0 1 0 0 1 0 1 1 0 0 0 1 0 0 0 0 1 0 1 0 1 0 0 0 0 0 1 1 0 0 0 1 0 0 0 1\n",
            " 1 0 0 0 1 1 0 1 0 1 0 0 1 0 0 0 1 0 0 0 0 1 0 0 1 1 0 1 0 0]\n"
          ],
          "name": "stdout"
        },
        {
          "output_type": "execute_result",
          "data": {
            "text/html": [
              "<div>\n",
              "<style scoped>\n",
              "    .dataframe tbody tr th:only-of-type {\n",
              "        vertical-align: middle;\n",
              "    }\n",
              "\n",
              "    .dataframe tbody tr th {\n",
              "        vertical-align: top;\n",
              "    }\n",
              "\n",
              "    .dataframe thead th {\n",
              "        text-align: right;\n",
              "    }\n",
              "</style>\n",
              "<table border=\"1\" class=\"dataframe\">\n",
              "  <thead>\n",
              "    <tr style=\"text-align: right;\">\n",
              "      <th></th>\n",
              "      <th>model</th>\n",
              "      <th>accuracy</th>\n",
              "      <th>precision</th>\n",
              "      <th>recall</th>\n",
              "      <th>f1-score</th>\n",
              "      <th>model_type</th>\n",
              "    </tr>\n",
              "  </thead>\n",
              "  <tbody>\n",
              "    <tr>\n",
              "      <th>0</th>\n",
              "      <td>decisionTree_criterion=gini_splitter=random_ma...</td>\n",
              "      <td>0.775281</td>\n",
              "      <td>0.711538</td>\n",
              "      <td>0.596774</td>\n",
              "      <td>0.649123</td>\n",
              "      <td>decisionTree</td>\n",
              "    </tr>\n",
              "  </tbody>\n",
              "</table>\n",
              "</div>"
            ],
            "text/plain": [
              "                                               model  ...    model_type\n",
              "0  decisionTree_criterion=gini_splitter=random_ma...  ...  decisionTree\n",
              "\n",
              "[1 rows x 6 columns]"
            ]
          },
          "metadata": {
            "tags": []
          },
          "execution_count": 39
        }
      ]
    },
    {
      "cell_type": "markdown",
      "metadata": {
        "id": "jUAGbQwBtz6z"
      },
      "source": [
        "**SVM**"
      ]
    },
    {
      "cell_type": "code",
      "metadata": {
        "colab": {
          "base_uri": "https://localhost:8080/",
          "height": 182
        },
        "id": "OoSL8UEMty9T",
        "outputId": "c6d5c3f5-e102-4288-bc71-aa9c0ae104b7"
      },
      "source": [
        "X_train_m2, y_train_m2 = resample(X_train, y_train, n_samples = 400)\n",
        "\n",
        "model_svm1, log_str2 = SVM(X_train_m2, y_train_m2, c = 2, kernel = 'sigmoid', degree = 2)\n",
        "y_hat = model_svm1.predict(X_valid)\n",
        "stats = model_log(log_str2,'SVM', y_valid, y_hat)\n",
        "print(y_hat)\n",
        "stats.head()"
      ],
      "execution_count": 62,
      "outputs": [
        {
          "output_type": "stream",
          "text": [
            "save metrics\n",
            "[1 0 0 0 1 0 1 0 0 0 0 1 0 1 1 1 1 0 1 0 0 0 1 0 0 1 1 1 1 0 1 1 0 1 1 0 1\n",
            " 0 0 0 0 0 0 1 0 0 1 0 1 1 1 0 0 0 1 0 0 1 1 0 1 0 1 0 1 0 0 1 0 0 1 1 1 0\n",
            " 1 1 0 0 1 0 0 0 1 1 0 0 1 1 0 1 0 0 0 1 0 0 0 0 1 1 1 0 0 0 1 0 1 0 0 1 1\n",
            " 0 0 1 0 0 1 1 1 0 0 0 1 0 0 1 0 0 1 1 0 0 1 0 0 0 0 0 1 1 0 0 0 0 0 1 0 1\n",
            " 0 1 1 0 1 0 0 1 1 1 1 1 0 1 0 1 0 1 0 1 0 0 1 0 0 0 0 0 0 1]\n"
          ],
          "name": "stdout"
        },
        {
          "output_type": "execute_result",
          "data": {
            "text/html": [
              "<div>\n",
              "<style scoped>\n",
              "    .dataframe tbody tr th:only-of-type {\n",
              "        vertical-align: middle;\n",
              "    }\n",
              "\n",
              "    .dataframe tbody tr th {\n",
              "        vertical-align: top;\n",
              "    }\n",
              "\n",
              "    .dataframe thead th {\n",
              "        text-align: right;\n",
              "    }\n",
              "</style>\n",
              "<table border=\"1\" class=\"dataframe\">\n",
              "  <thead>\n",
              "    <tr style=\"text-align: right;\">\n",
              "      <th></th>\n",
              "      <th>model</th>\n",
              "      <th>accuracy</th>\n",
              "      <th>precision</th>\n",
              "      <th>recall</th>\n",
              "      <th>f1-score</th>\n",
              "      <th>model_type</th>\n",
              "    </tr>\n",
              "  </thead>\n",
              "  <tbody>\n",
              "    <tr>\n",
              "      <th>0</th>\n",
              "      <td>SVM_c=2_kernel=sigmoid_degree=2SibSp_Parch_Far...</td>\n",
              "      <td>0.578652</td>\n",
              "      <td>0.415584</td>\n",
              "      <td>0.516129</td>\n",
              "      <td>0.460432</td>\n",
              "      <td>SVM</td>\n",
              "    </tr>\n",
              "  </tbody>\n",
              "</table>\n",
              "</div>"
            ],
            "text/plain": [
              "                                               model  ...  model_type\n",
              "0  SVM_c=2_kernel=sigmoid_degree=2SibSp_Parch_Far...  ...         SVM\n",
              "\n",
              "[1 rows x 6 columns]"
            ]
          },
          "metadata": {
            "tags": []
          },
          "execution_count": 62
        }
      ]
    },
    {
      "cell_type": "markdown",
      "metadata": {
        "id": "TkwkcUsEvoH_"
      },
      "source": [
        "**Naive Bayes**"
      ]
    },
    {
      "cell_type": "code",
      "metadata": {
        "colab": {
          "base_uri": "https://localhost:8080/",
          "height": 301
        },
        "id": "ArrFhJ7Jv3NF",
        "outputId": "d30e3f41-17dc-495c-ca8f-fc76ace91326"
      },
      "source": [
        "X_train_m3, y_train_m3 = resample(X_train, y_train, n_samples = 700)\n",
        "\n",
        "model_nb1, log_str2 = naive_bayes(X_train,y_train,n=7)\n",
        "y_hat = naive_bayes_predict(model_nb1, X_valid)\n",
        "\n",
        "stats = model_log(log_str2,'naivebayes', y_valid, y_hat)\n",
        "\n",
        "print(y_hat)\n",
        "stats.head()"
      ],
      "execution_count": 142,
      "outputs": [
        {
          "output_type": "stream",
          "text": [
            "save metrics\n",
            "506    1\n",
            "834    0\n",
            "775    0\n",
            "102    1\n",
            "666    0\n",
            "      ..\n",
            "550    1\n",
            "404    1\n",
            "246    1\n",
            "588    0\n",
            "622    0\n",
            "Length: 178, dtype: int64\n"
          ],
          "name": "stdout"
        },
        {
          "output_type": "execute_result",
          "data": {
            "text/html": [
              "<div>\n",
              "<style scoped>\n",
              "    .dataframe tbody tr th:only-of-type {\n",
              "        vertical-align: middle;\n",
              "    }\n",
              "\n",
              "    .dataframe tbody tr th {\n",
              "        vertical-align: top;\n",
              "    }\n",
              "\n",
              "    .dataframe thead th {\n",
              "        text-align: right;\n",
              "    }\n",
              "</style>\n",
              "<table border=\"1\" class=\"dataframe\">\n",
              "  <thead>\n",
              "    <tr style=\"text-align: right;\">\n",
              "      <th></th>\n",
              "      <th>model</th>\n",
              "      <th>accuracy</th>\n",
              "      <th>precision</th>\n",
              "      <th>recall</th>\n",
              "      <th>f1-score</th>\n",
              "      <th>model_type</th>\n",
              "    </tr>\n",
              "  </thead>\n",
              "  <tbody>\n",
              "    <tr>\n",
              "      <th>0</th>\n",
              "      <td>naivebayes_n=7SibSp_Parch_Fare_passenger_class...</td>\n",
              "      <td>0.792135</td>\n",
              "      <td>0.692308</td>\n",
              "      <td>0.725806</td>\n",
              "      <td>0.708661</td>\n",
              "      <td>naivebayes</td>\n",
              "    </tr>\n",
              "  </tbody>\n",
              "</table>\n",
              "</div>"
            ],
            "text/plain": [
              "                                               model  ...  model_type\n",
              "0  naivebayes_n=7SibSp_Parch_Fare_passenger_class...  ...  naivebayes\n",
              "\n",
              "[1 rows x 6 columns]"
            ]
          },
          "metadata": {
            "tags": []
          },
          "execution_count": 142
        }
      ]
    },
    {
      "cell_type": "code",
      "metadata": {
        "colab": {
          "base_uri": "https://localhost:8080/",
          "height": 419
        },
        "id": "ZESONQ5GkYBi",
        "outputId": "fa7bfb07-b78c-46e5-a896-2e3e78472b45"
      },
      "source": [
        "results = pd.read_csv('results.csv',names=['model','accuracy','precision','recall','f1-score','model_type'])\n",
        "results"
      ],
      "execution_count": 143,
      "outputs": [
        {
          "output_type": "execute_result",
          "data": {
            "text/html": [
              "<div>\n",
              "<style scoped>\n",
              "    .dataframe tbody tr th:only-of-type {\n",
              "        vertical-align: middle;\n",
              "    }\n",
              "\n",
              "    .dataframe tbody tr th {\n",
              "        vertical-align: top;\n",
              "    }\n",
              "\n",
              "    .dataframe thead th {\n",
              "        text-align: right;\n",
              "    }\n",
              "</style>\n",
              "<table border=\"1\" class=\"dataframe\">\n",
              "  <thead>\n",
              "    <tr style=\"text-align: right;\">\n",
              "      <th></th>\n",
              "      <th>model</th>\n",
              "      <th>accuracy</th>\n",
              "      <th>precision</th>\n",
              "      <th>recall</th>\n",
              "      <th>f1-score</th>\n",
              "      <th>model_type</th>\n",
              "    </tr>\n",
              "  </thead>\n",
              "  <tbody>\n",
              "    <tr>\n",
              "      <th>0</th>\n",
              "      <td>decisionTree_criterion=gini_splitter=random_ma...</td>\n",
              "      <td>0.758427</td>\n",
              "      <td>0.626667</td>\n",
              "      <td>0.758065</td>\n",
              "      <td>0.686131</td>\n",
              "      <td>decisionTree</td>\n",
              "    </tr>\n",
              "    <tr>\n",
              "      <th>1</th>\n",
              "      <td>decisionTree_criterion=gini_splitter=random_ma...</td>\n",
              "      <td>0.769663</td>\n",
              "      <td>0.647887</td>\n",
              "      <td>0.741935</td>\n",
              "      <td>0.691729</td>\n",
              "      <td>decisionTree</td>\n",
              "    </tr>\n",
              "    <tr>\n",
              "      <th>2</th>\n",
              "      <td>decisionTree_criterion=entropy_splitter=random...</td>\n",
              "      <td>0.786517</td>\n",
              "      <td>0.700000</td>\n",
              "      <td>0.677419</td>\n",
              "      <td>0.688525</td>\n",
              "      <td>decisionTree</td>\n",
              "    </tr>\n",
              "    <tr>\n",
              "      <th>3</th>\n",
              "      <td>decisionTree_criterion=entropy_splitter=random...</td>\n",
              "      <td>0.724719</td>\n",
              "      <td>0.591549</td>\n",
              "      <td>0.677419</td>\n",
              "      <td>0.631579</td>\n",
              "      <td>decisionTree</td>\n",
              "    </tr>\n",
              "    <tr>\n",
              "      <th>4</th>\n",
              "      <td>decisionTree_criterion=entropy_splitter=random...</td>\n",
              "      <td>0.792135</td>\n",
              "      <td>0.676056</td>\n",
              "      <td>0.774194</td>\n",
              "      <td>0.721805</td>\n",
              "      <td>decisionTree</td>\n",
              "    </tr>\n",
              "    <tr>\n",
              "      <th>...</th>\n",
              "      <td>...</td>\n",
              "      <td>...</td>\n",
              "      <td>...</td>\n",
              "      <td>...</td>\n",
              "      <td>...</td>\n",
              "      <td>...</td>\n",
              "    </tr>\n",
              "    <tr>\n",
              "      <th>57</th>\n",
              "      <td>naivebayes_n=2SibSp_Parch_Fare_passenger_class...</td>\n",
              "      <td>0.780899</td>\n",
              "      <td>0.688525</td>\n",
              "      <td>0.677419</td>\n",
              "      <td>0.682927</td>\n",
              "      <td>naivebayes</td>\n",
              "    </tr>\n",
              "    <tr>\n",
              "      <th>58</th>\n",
              "      <td>naivebayes_n=3SibSp_Parch_Fare_passenger_class...</td>\n",
              "      <td>0.780899</td>\n",
              "      <td>0.694915</td>\n",
              "      <td>0.661290</td>\n",
              "      <td>0.677686</td>\n",
              "      <td>naivebayes</td>\n",
              "    </tr>\n",
              "    <tr>\n",
              "      <th>59</th>\n",
              "      <td>naivebayes_n=4SibSp_Parch_Fare_passenger_class...</td>\n",
              "      <td>0.780899</td>\n",
              "      <td>0.676923</td>\n",
              "      <td>0.709677</td>\n",
              "      <td>0.692913</td>\n",
              "      <td>naivebayes</td>\n",
              "    </tr>\n",
              "    <tr>\n",
              "      <th>60</th>\n",
              "      <td>naivebayes_n=5SibSp_Parch_Fare_passenger_class...</td>\n",
              "      <td>0.786517</td>\n",
              "      <td>0.687500</td>\n",
              "      <td>0.709677</td>\n",
              "      <td>0.698413</td>\n",
              "      <td>naivebayes</td>\n",
              "    </tr>\n",
              "    <tr>\n",
              "      <th>61</th>\n",
              "      <td>naivebayes_n=7SibSp_Parch_Fare_passenger_class...</td>\n",
              "      <td>0.792135</td>\n",
              "      <td>0.692308</td>\n",
              "      <td>0.725806</td>\n",
              "      <td>0.708661</td>\n",
              "      <td>naivebayes</td>\n",
              "    </tr>\n",
              "  </tbody>\n",
              "</table>\n",
              "<p>62 rows × 6 columns</p>\n",
              "</div>"
            ],
            "text/plain": [
              "                                                model  ...    model_type\n",
              "0   decisionTree_criterion=gini_splitter=random_ma...  ...  decisionTree\n",
              "1   decisionTree_criterion=gini_splitter=random_ma...  ...  decisionTree\n",
              "2   decisionTree_criterion=entropy_splitter=random...  ...  decisionTree\n",
              "3   decisionTree_criterion=entropy_splitter=random...  ...  decisionTree\n",
              "4   decisionTree_criterion=entropy_splitter=random...  ...  decisionTree\n",
              "..                                                ...  ...           ...\n",
              "57  naivebayes_n=2SibSp_Parch_Fare_passenger_class...  ...    naivebayes\n",
              "58  naivebayes_n=3SibSp_Parch_Fare_passenger_class...  ...    naivebayes\n",
              "59  naivebayes_n=4SibSp_Parch_Fare_passenger_class...  ...    naivebayes\n",
              "60  naivebayes_n=5SibSp_Parch_Fare_passenger_class...  ...    naivebayes\n",
              "61  naivebayes_n=7SibSp_Parch_Fare_passenger_class...  ...    naivebayes\n",
              "\n",
              "[62 rows x 6 columns]"
            ]
          },
          "metadata": {
            "tags": []
          },
          "execution_count": 143
        }
      ]
    },
    {
      "cell_type": "code",
      "metadata": {
        "id": "IfndZhfSFUbJ"
      },
      "source": [
        "#data_tmp = results.loc[results[\"model_type\"] != 'naivebayes']\n",
        "#data_tmp.to_csv('results.csv', mode = 'w', header = False, index = False)"
      ],
      "execution_count": 135,
      "outputs": []
    },
    {
      "cell_type": "markdown",
      "metadata": {
        "id": "zr2oFT0l1fnA"
      },
      "source": [
        "**Mejores modelos**"
      ]
    },
    {
      "cell_type": "code",
      "metadata": {
        "colab": {
          "base_uri": "https://localhost:8080/",
          "height": 142
        },
        "id": "TXPof2d40i7c",
        "outputId": "908b4790-68bc-4d6a-ebaf-fb591bfc1d5c"
      },
      "source": [
        "df = results.loc[results.groupby(['model_type'])['accuracy'].idxmax()]\n",
        "df"
      ],
      "execution_count": 144,
      "outputs": [
        {
          "output_type": "execute_result",
          "data": {
            "text/html": [
              "<div>\n",
              "<style scoped>\n",
              "    .dataframe tbody tr th:only-of-type {\n",
              "        vertical-align: middle;\n",
              "    }\n",
              "\n",
              "    .dataframe tbody tr th {\n",
              "        vertical-align: top;\n",
              "    }\n",
              "\n",
              "    .dataframe thead th {\n",
              "        text-align: right;\n",
              "    }\n",
              "</style>\n",
              "<table border=\"1\" class=\"dataframe\">\n",
              "  <thead>\n",
              "    <tr style=\"text-align: right;\">\n",
              "      <th></th>\n",
              "      <th>model</th>\n",
              "      <th>accuracy</th>\n",
              "      <th>precision</th>\n",
              "      <th>recall</th>\n",
              "      <th>f1-score</th>\n",
              "      <th>model_type</th>\n",
              "    </tr>\n",
              "  </thead>\n",
              "  <tbody>\n",
              "    <tr>\n",
              "      <th>11</th>\n",
              "      <td>SVM_c=2_kernel=linear_degree=4SibSp_Parch_Fare...</td>\n",
              "      <td>0.786517</td>\n",
              "      <td>0.693548</td>\n",
              "      <td>0.693548</td>\n",
              "      <td>0.693548</td>\n",
              "      <td>SVM</td>\n",
              "    </tr>\n",
              "    <tr>\n",
              "      <th>4</th>\n",
              "      <td>decisionTree_criterion=entropy_splitter=random...</td>\n",
              "      <td>0.792135</td>\n",
              "      <td>0.676056</td>\n",
              "      <td>0.774194</td>\n",
              "      <td>0.721805</td>\n",
              "      <td>decisionTree</td>\n",
              "    </tr>\n",
              "    <tr>\n",
              "      <th>61</th>\n",
              "      <td>naivebayes_n=7SibSp_Parch_Fare_passenger_class...</td>\n",
              "      <td>0.792135</td>\n",
              "      <td>0.692308</td>\n",
              "      <td>0.725806</td>\n",
              "      <td>0.708661</td>\n",
              "      <td>naivebayes</td>\n",
              "    </tr>\n",
              "  </tbody>\n",
              "</table>\n",
              "</div>"
            ],
            "text/plain": [
              "                                                model  ...    model_type\n",
              "11  SVM_c=2_kernel=linear_degree=4SibSp_Parch_Fare...  ...           SVM\n",
              "4   decisionTree_criterion=entropy_splitter=random...  ...  decisionTree\n",
              "61  naivebayes_n=7SibSp_Parch_Fare_passenger_class...  ...    naivebayes\n",
              "\n",
              "[3 rows x 6 columns]"
            ]
          },
          "metadata": {
            "tags": []
          },
          "execution_count": 144
        }
      ]
    },
    {
      "cell_type": "markdown",
      "metadata": {
        "id": "dbafyVpV5-ug"
      },
      "source": [
        "**Predicciones**"
      ]
    },
    {
      "cell_type": "code",
      "metadata": {
        "colab": {
          "base_uri": "https://localhost:8080/"
        },
        "id": "CcNR4_cP6D1-",
        "outputId": "bf4bae9d-c52d-4257-8900-1a854d3f1e3e"
      },
      "source": [
        "### get top models\n",
        "prediciones = dict()\n",
        "for id, row in df.iterrows():\n",
        "  if row['model_type'] == 'decisionTree' or row['model_type'] == 'SVM':\n",
        "    model_predit = joblib.load( row['model'] + '.joblib', mmap_mode=None)\n",
        "    prediciones[row['model_type']] = model_predit.predict(X_test)\n",
        "   # print(prediciones)\n",
        "    #print(model_predit)\n",
        "  elif row['model_type'] == 'naivebayes':\n",
        "    model_fin = pd.read_csv(row['model'] + '.csv', index_col = [0],  header = [0,1])\n",
        "    prediciones[row['model_type']] = naive_bayes_predict(model_fin, X_test).values\n",
        "    #print(model)\n",
        "#print(prediciones)"
      ],
      "execution_count": 149,
      "outputs": [
        {
          "output_type": "stream",
          "text": [
            "28\n",
            "SVM_c=2_kernel=linear_degree=4SibSp_Parch_Fare_passenger_class_passenger_sex\n",
            "SVM\n",
            "28\n",
            "decisionTree_criterion=entropy_splitter=random_max_depth=None_min_samples_split=3SibSp_Parch_Fare_passenger_class_passenger_sex\n",
            "decisionTree\n",
            "28\n",
            "naivebayes_n=7SibSp_Parch_Fare_passenger_class_passenger_sex\n",
            "naivebayes\n",
            "{'SVM': array([1, 1, 0, 0, 0, 0, 0, 1, 0, 1, 0, 1, 0, 1, 1, 1, 0, 0, 0, 1, 0, 0,\n",
            "       1, 1, 0, 0, 0, 1, 0, 0, 0, 1, 1, 1, 1, 0, 1, 1, 0, 0, 0, 1, 0, 0,\n",
            "       1, 1, 0, 1, 1, 0, 1, 0, 0, 1, 0, 1, 0, 1, 1, 1, 0, 0, 0, 0, 0, 1,\n",
            "       1, 0, 1, 0, 0, 0, 0, 0, 0, 0, 0, 1, 0, 0, 0, 0, 1, 0, 0, 0, 0, 0,\n",
            "       0, 1, 1, 1, 0, 0, 0, 1, 0, 0, 0, 0, 0, 0, 1, 0, 0, 1, 0, 0, 0, 0,\n",
            "       0, 0, 1, 0, 0, 0, 1, 1, 1, 0, 1, 0, 0, 0, 0, 0, 1, 0, 1, 1, 0, 0,\n",
            "       0, 0, 1, 1, 0, 0, 0, 0, 1, 0, 0, 1, 0, 0, 0, 0, 1, 0, 1, 0, 1, 1,\n",
            "       0, 1, 1, 0, 0, 0, 0, 0, 1, 0, 0, 0, 1, 0, 0, 0, 0, 0, 0, 0, 1, 0,\n",
            "       0, 0, 0]), 'decisionTree': array([1, 1, 0, 0, 0, 0, 0, 1, 0, 1, 0, 1, 0, 1, 1, 1, 0, 1, 0, 1, 0, 0,\n",
            "       1, 1, 0, 0, 0, 1, 0, 1, 0, 1, 1, 1, 1, 0, 1, 1, 0, 0, 1, 1, 1, 0,\n",
            "       1, 1, 0, 1, 1, 0, 1, 0, 0, 1, 0, 0, 1, 1, 1, 0, 0, 1, 1, 0, 0, 1,\n",
            "       0, 0, 1, 0, 1, 0, 0, 1, 1, 1, 0, 1, 1, 0, 0, 0, 1, 0, 1, 0, 0, 1,\n",
            "       0, 1, 1, 1, 0, 0, 1, 1, 0, 0, 0, 0, 0, 0, 1, 0, 0, 1, 0, 0, 1, 0,\n",
            "       0, 0, 0, 0, 0, 0, 1, 1, 1, 0, 1, 1, 0, 0, 0, 0, 1, 0, 1, 0, 0, 1,\n",
            "       1, 0, 1, 1, 0, 0, 0, 0, 0, 0, 0, 1, 0, 0, 0, 1, 1, 0, 0, 0, 0, 1,\n",
            "       0, 1, 1, 0, 0, 0, 0, 0, 1, 0, 0, 0, 1, 0, 0, 0, 0, 0, 0, 0, 0, 0,\n",
            "       1, 0, 0]), 'naivebayes': array([1, 1, 0, 0, 0, 0, 0, 1, 0, 1, 0, 1, 1, 0, 1, 1, 0, 1, 0, 1, 0, 0,\n",
            "       0, 1, 0, 0, 0, 1, 0, 0, 0, 1, 1, 1, 1, 0, 1, 1, 0, 0, 0, 1, 0, 0,\n",
            "       1, 1, 0, 1, 1, 0, 1, 0, 0, 1, 0, 1, 0, 1, 1, 1, 0, 0, 0, 0, 0, 1,\n",
            "       0, 0, 1, 0, 0, 0, 0, 0, 0, 0, 1, 1, 0, 0, 0, 0, 0, 0, 0, 0, 0, 0,\n",
            "       0, 1, 1, 1, 0, 0, 1, 1, 0, 0, 0, 0, 0, 0, 1, 1, 1, 1, 0, 0, 1, 0,\n",
            "       0, 0, 1, 0, 0, 0, 1, 1, 1, 0, 1, 1, 0, 0, 0, 0, 1, 0, 1, 1, 0, 0,\n",
            "       0, 0, 1, 1, 0, 0, 0, 0, 1, 0, 0, 0, 0, 0, 0, 0, 1, 0, 0, 0, 1, 1,\n",
            "       0, 1, 1, 0, 0, 0, 0, 0, 1, 0, 0, 0, 1, 0, 0, 0, 0, 0, 0, 0, 1, 0,\n",
            "       1, 0, 0])}\n"
          ],
          "name": "stdout"
        }
      ]
    },
    {
      "cell_type": "code",
      "metadata": {
        "colab": {
          "base_uri": "https://localhost:8080/",
          "height": 221
        },
        "id": "jZ30Yek7LgWU",
        "outputId": "29453395-b008-47d7-c8bf-44d1e628f718"
      },
      "source": [
        "df_pred = pd.DataFrame(data = prediciones)\n",
        "df_pred.head()\n",
        "print(len(prediciones['SVM']))\n",
        "#np.mod(df_pred, axis=1)\n",
        "from scipy import stats as st\n",
        "moda=st.mode(df_pred, axis=1)\n",
        "moda.mode\n",
        "ensamble_predict = df_pred.merge(pd.DataFrame(moda.mode,columns=['moda']), left_index = True, right_index = True)\n",
        "ensamble_predict.head()"
      ],
      "execution_count": 190,
      "outputs": [
        {
          "output_type": "stream",
          "text": [
            "179\n"
          ],
          "name": "stdout"
        },
        {
          "output_type": "execute_result",
          "data": {
            "text/html": [
              "<div>\n",
              "<style scoped>\n",
              "    .dataframe tbody tr th:only-of-type {\n",
              "        vertical-align: middle;\n",
              "    }\n",
              "\n",
              "    .dataframe tbody tr th {\n",
              "        vertical-align: top;\n",
              "    }\n",
              "\n",
              "    .dataframe thead th {\n",
              "        text-align: right;\n",
              "    }\n",
              "</style>\n",
              "<table border=\"1\" class=\"dataframe\">\n",
              "  <thead>\n",
              "    <tr style=\"text-align: right;\">\n",
              "      <th></th>\n",
              "      <th>SVM</th>\n",
              "      <th>decisionTree</th>\n",
              "      <th>naivebayes</th>\n",
              "      <th>moda</th>\n",
              "    </tr>\n",
              "  </thead>\n",
              "  <tbody>\n",
              "    <tr>\n",
              "      <th>0</th>\n",
              "      <td>1</td>\n",
              "      <td>1</td>\n",
              "      <td>1</td>\n",
              "      <td>1</td>\n",
              "    </tr>\n",
              "    <tr>\n",
              "      <th>1</th>\n",
              "      <td>1</td>\n",
              "      <td>1</td>\n",
              "      <td>1</td>\n",
              "      <td>1</td>\n",
              "    </tr>\n",
              "    <tr>\n",
              "      <th>2</th>\n",
              "      <td>0</td>\n",
              "      <td>0</td>\n",
              "      <td>0</td>\n",
              "      <td>0</td>\n",
              "    </tr>\n",
              "    <tr>\n",
              "      <th>3</th>\n",
              "      <td>0</td>\n",
              "      <td>0</td>\n",
              "      <td>0</td>\n",
              "      <td>0</td>\n",
              "    </tr>\n",
              "    <tr>\n",
              "      <th>4</th>\n",
              "      <td>0</td>\n",
              "      <td>0</td>\n",
              "      <td>0</td>\n",
              "      <td>0</td>\n",
              "    </tr>\n",
              "  </tbody>\n",
              "</table>\n",
              "</div>"
            ],
            "text/plain": [
              "   SVM  decisionTree  naivebayes  moda\n",
              "0    1             1           1     1\n",
              "1    1             1           1     1\n",
              "2    0             0           0     0\n",
              "3    0             0           0     0\n",
              "4    0             0           0     0"
            ]
          },
          "metadata": {
            "tags": []
          },
          "execution_count": 190
        }
      ]
    },
    {
      "cell_type": "code",
      "metadata": {
        "colab": {
          "base_uri": "https://localhost:8080/"
        },
        "id": "ds0YU8xWQhHZ",
        "outputId": "e50cca0e-d64f-4312-a3b8-fbb7869edf3a"
      },
      "source": [
        " #X_valid.iloc[:, :-1]\n",
        " ensamble_predict.iloc[: , -1]"
      ],
      "execution_count": 180,
      "outputs": [
        {
          "output_type": "execute_result",
          "data": {
            "text/plain": [
              "0      1\n",
              "1      1\n",
              "2      0\n",
              "3      0\n",
              "4      0\n",
              "      ..\n",
              "174    1\n",
              "175    0\n",
              "176    1\n",
              "177    0\n",
              "178    0\n",
              "Name: 0, Length: 179, dtype: int64"
            ]
          },
          "metadata": {
            "tags": []
          },
          "execution_count": 180
        }
      ]
    },
    {
      "cell_type": "code",
      "metadata": {
        "colab": {
          "base_uri": "https://localhost:8080/",
          "height": 375
        },
        "id": "oxhGMqrCP66h",
        "outputId": "856107d2-0288-4c9d-e0fe-bb6898d12a3e"
      },
      "source": [
        "\n",
        "log_metrics = dict()\n",
        "log_metrics['accuracy'] = sm.accuracy_score(y_valid, ensamble_predict.iloc[: , -1])\n",
        "log_metrics['precision'] = sm.precision_score(y_valid, ensamble_predict.iloc[: , -1])\n",
        "log_metrics['recall'] = sm.recall_score(y_valid, ensamble_predict.iloc[: , -1])\n",
        "log_metrics['f1-score'] = sm.f1_score(y_valid, ensamble_predict.iloc[: , -1])\n",
        "log_metrics['model_type'] = mtype\n",
        "ensamble_metrics = pd.DataFrame(data = log_metrics, index = [0])\n",
        "  "
      ],
      "execution_count": 191,
      "outputs": [
        {
          "output_type": "error",
          "ename": "ValueError",
          "evalue": "ignored",
          "traceback": [
            "\u001b[0;31m---------------------------------------------------------------------------\u001b[0m",
            "\u001b[0;31mValueError\u001b[0m                                Traceback (most recent call last)",
            "\u001b[0;32m<ipython-input-191-37b5b704fb69>\u001b[0m in \u001b[0;36m<module>\u001b[0;34m()\u001b[0m\n\u001b[1;32m      1\u001b[0m \u001b[0;34m\u001b[0m\u001b[0m\n\u001b[1;32m      2\u001b[0m \u001b[0mlog_metrics\u001b[0m \u001b[0;34m=\u001b[0m \u001b[0mdict\u001b[0m\u001b[0;34m(\u001b[0m\u001b[0;34m)\u001b[0m\u001b[0;34m\u001b[0m\u001b[0;34m\u001b[0m\u001b[0m\n\u001b[0;32m----> 3\u001b[0;31m \u001b[0mlog_metrics\u001b[0m\u001b[0;34m[\u001b[0m\u001b[0;34m'accuracy'\u001b[0m\u001b[0;34m]\u001b[0m \u001b[0;34m=\u001b[0m \u001b[0msm\u001b[0m\u001b[0;34m.\u001b[0m\u001b[0maccuracy_score\u001b[0m\u001b[0;34m(\u001b[0m\u001b[0my_valid\u001b[0m\u001b[0;34m,\u001b[0m \u001b[0mensamble_predict\u001b[0m\u001b[0;34m.\u001b[0m\u001b[0miloc\u001b[0m\u001b[0;34m[\u001b[0m\u001b[0;34m:\u001b[0m \u001b[0;34m,\u001b[0m \u001b[0;34m-\u001b[0m\u001b[0;36m1\u001b[0m\u001b[0;34m]\u001b[0m\u001b[0;34m)\u001b[0m\u001b[0;34m\u001b[0m\u001b[0;34m\u001b[0m\u001b[0m\n\u001b[0m\u001b[1;32m      4\u001b[0m \u001b[0mlog_metrics\u001b[0m\u001b[0;34m[\u001b[0m\u001b[0;34m'precision'\u001b[0m\u001b[0;34m]\u001b[0m \u001b[0;34m=\u001b[0m \u001b[0msm\u001b[0m\u001b[0;34m.\u001b[0m\u001b[0mprecision_score\u001b[0m\u001b[0;34m(\u001b[0m\u001b[0my_valid\u001b[0m\u001b[0;34m,\u001b[0m \u001b[0mensamble_predict\u001b[0m\u001b[0;34m.\u001b[0m\u001b[0miloc\u001b[0m\u001b[0;34m[\u001b[0m\u001b[0;34m:\u001b[0m \u001b[0;34m,\u001b[0m \u001b[0;34m-\u001b[0m\u001b[0;36m1\u001b[0m\u001b[0;34m]\u001b[0m\u001b[0;34m)\u001b[0m\u001b[0;34m\u001b[0m\u001b[0;34m\u001b[0m\u001b[0m\n\u001b[1;32m      5\u001b[0m \u001b[0mlog_metrics\u001b[0m\u001b[0;34m[\u001b[0m\u001b[0;34m'recall'\u001b[0m\u001b[0;34m]\u001b[0m \u001b[0;34m=\u001b[0m \u001b[0msm\u001b[0m\u001b[0;34m.\u001b[0m\u001b[0mrecall_score\u001b[0m\u001b[0;34m(\u001b[0m\u001b[0my_valid\u001b[0m\u001b[0;34m,\u001b[0m \u001b[0mensamble_predict\u001b[0m\u001b[0;34m.\u001b[0m\u001b[0miloc\u001b[0m\u001b[0;34m[\u001b[0m\u001b[0;34m:\u001b[0m \u001b[0;34m,\u001b[0m \u001b[0;34m-\u001b[0m\u001b[0;36m1\u001b[0m\u001b[0;34m]\u001b[0m\u001b[0;34m)\u001b[0m\u001b[0;34m\u001b[0m\u001b[0;34m\u001b[0m\u001b[0m\n",
            "\u001b[0;32m/usr/local/lib/python3.7/dist-packages/sklearn/metrics/_classification.py\u001b[0m in \u001b[0;36maccuracy_score\u001b[0;34m(y_true, y_pred, normalize, sample_weight)\u001b[0m\n\u001b[1;32m    183\u001b[0m \u001b[0;34m\u001b[0m\u001b[0m\n\u001b[1;32m    184\u001b[0m     \u001b[0;31m# Compute accuracy for each possible representation\u001b[0m\u001b[0;34m\u001b[0m\u001b[0;34m\u001b[0m\u001b[0;34m\u001b[0m\u001b[0m\n\u001b[0;32m--> 185\u001b[0;31m     \u001b[0my_type\u001b[0m\u001b[0;34m,\u001b[0m \u001b[0my_true\u001b[0m\u001b[0;34m,\u001b[0m \u001b[0my_pred\u001b[0m \u001b[0;34m=\u001b[0m \u001b[0m_check_targets\u001b[0m\u001b[0;34m(\u001b[0m\u001b[0my_true\u001b[0m\u001b[0;34m,\u001b[0m \u001b[0my_pred\u001b[0m\u001b[0;34m)\u001b[0m\u001b[0;34m\u001b[0m\u001b[0;34m\u001b[0m\u001b[0m\n\u001b[0m\u001b[1;32m    186\u001b[0m     \u001b[0mcheck_consistent_length\u001b[0m\u001b[0;34m(\u001b[0m\u001b[0my_true\u001b[0m\u001b[0;34m,\u001b[0m \u001b[0my_pred\u001b[0m\u001b[0;34m,\u001b[0m \u001b[0msample_weight\u001b[0m\u001b[0;34m)\u001b[0m\u001b[0;34m\u001b[0m\u001b[0;34m\u001b[0m\u001b[0m\n\u001b[1;32m    187\u001b[0m     \u001b[0;32mif\u001b[0m \u001b[0my_type\u001b[0m\u001b[0;34m.\u001b[0m\u001b[0mstartswith\u001b[0m\u001b[0;34m(\u001b[0m\u001b[0;34m'multilabel'\u001b[0m\u001b[0;34m)\u001b[0m\u001b[0;34m:\u001b[0m\u001b[0;34m\u001b[0m\u001b[0;34m\u001b[0m\u001b[0m\n",
            "\u001b[0;32m/usr/local/lib/python3.7/dist-packages/sklearn/metrics/_classification.py\u001b[0m in \u001b[0;36m_check_targets\u001b[0;34m(y_true, y_pred)\u001b[0m\n\u001b[1;32m     78\u001b[0m     \u001b[0my_pred\u001b[0m \u001b[0;34m:\u001b[0m \u001b[0marray\u001b[0m \u001b[0;32mor\u001b[0m \u001b[0mindicator\u001b[0m \u001b[0mmatrix\u001b[0m\u001b[0;34m\u001b[0m\u001b[0;34m\u001b[0m\u001b[0m\n\u001b[1;32m     79\u001b[0m     \"\"\"\n\u001b[0;32m---> 80\u001b[0;31m     \u001b[0mcheck_consistent_length\u001b[0m\u001b[0;34m(\u001b[0m\u001b[0my_true\u001b[0m\u001b[0;34m,\u001b[0m \u001b[0my_pred\u001b[0m\u001b[0;34m)\u001b[0m\u001b[0;34m\u001b[0m\u001b[0;34m\u001b[0m\u001b[0m\n\u001b[0m\u001b[1;32m     81\u001b[0m     \u001b[0mtype_true\u001b[0m \u001b[0;34m=\u001b[0m \u001b[0mtype_of_target\u001b[0m\u001b[0;34m(\u001b[0m\u001b[0my_true\u001b[0m\u001b[0;34m)\u001b[0m\u001b[0;34m\u001b[0m\u001b[0;34m\u001b[0m\u001b[0m\n\u001b[1;32m     82\u001b[0m     \u001b[0mtype_pred\u001b[0m \u001b[0;34m=\u001b[0m \u001b[0mtype_of_target\u001b[0m\u001b[0;34m(\u001b[0m\u001b[0my_pred\u001b[0m\u001b[0;34m)\u001b[0m\u001b[0;34m\u001b[0m\u001b[0;34m\u001b[0m\u001b[0m\n",
            "\u001b[0;32m/usr/local/lib/python3.7/dist-packages/sklearn/utils/validation.py\u001b[0m in \u001b[0;36mcheck_consistent_length\u001b[0;34m(*arrays)\u001b[0m\n\u001b[1;32m    210\u001b[0m     \u001b[0;32mif\u001b[0m \u001b[0mlen\u001b[0m\u001b[0;34m(\u001b[0m\u001b[0muniques\u001b[0m\u001b[0;34m)\u001b[0m \u001b[0;34m>\u001b[0m \u001b[0;36m1\u001b[0m\u001b[0;34m:\u001b[0m\u001b[0;34m\u001b[0m\u001b[0;34m\u001b[0m\u001b[0m\n\u001b[1;32m    211\u001b[0m         raise ValueError(\"Found input variables with inconsistent numbers of\"\n\u001b[0;32m--> 212\u001b[0;31m                          \" samples: %r\" % [int(l) for l in lengths])\n\u001b[0m\u001b[1;32m    213\u001b[0m \u001b[0;34m\u001b[0m\u001b[0m\n\u001b[1;32m    214\u001b[0m \u001b[0;34m\u001b[0m\u001b[0m\n",
            "\u001b[0;31mValueError\u001b[0m: Found input variables with inconsistent numbers of samples: [178, 179]"
          ]
        }
      ]
    },
    {
      "cell_type": "markdown",
      "metadata": {
        "id": "IGDQBIK1UQJo"
      },
      "source": [
        "**Conclusiones**"
      ]
    },
    {
      "cell_type": "markdown",
      "metadata": {
        "id": "jIUfxTzXUS7S"
      },
      "source": [
        "\n",
        "\n",
        "*   La utilizacion de recursos como sklearn simplifican en gran medida la construcciones de model.\n",
        "* La vitacora sin duda ayuda en gran medida a analizar el performance de un modelo y su seleccion. \n",
        "* Como forma personal la parte de tensorflow ya no me dio tiempo realizarlo como se queria.\n",
        "* El analisis del modelo por medio de accuracy, presition, etc nos da una forma facil de medir el renidmiento de los modelos. \n",
        "\n"
      ]
    },
    {
      "cell_type": "code",
      "metadata": {
        "id": "915X8IE1UPgP"
      },
      "source": [
        ""
      ],
      "execution_count": null,
      "outputs": []
    }
  ]
}